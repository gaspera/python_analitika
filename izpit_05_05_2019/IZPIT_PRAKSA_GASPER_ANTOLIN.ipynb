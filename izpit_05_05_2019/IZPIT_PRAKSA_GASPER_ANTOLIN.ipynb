{
 "cells": [
  {
   "cell_type": "markdown",
   "metadata": {},
   "source": [
    "# Praktični izpit tečaja Analitika podatkov v Python-u"
   ]
  },
  {
   "cell_type": "markdown",
   "metadata": {},
   "source": [
    "Čas reševanja: `120 min`"
   ]
  },
  {
   "cell_type": "markdown",
   "metadata": {
    "collapsed": true
   },
   "source": [
    "Skupno število točk: `70 pts`\n",
    "\n",
    "Odgovore na vprašanja vnesite v celice z komentarjem `# Odgovor`\n",
    "\n",
    "Za vsa vprašanja smo na voljo.\n",
    "\n",
    "Lahko si pomagate z uporabo gradiv in internetom. Ne pozabite na uradno dokumentacijo.\n",
    "\n",
    "Srečno!!"
   ]
  },
  {
   "cell_type": "markdown",
   "metadata": {},
   "source": [
    "**Pred začetkom izpita zaženite spodnjo celico:**\n",
    "    \n",
    "    "
   ]
  },
  {
   "cell_type": "code",
   "execution_count": 387,
   "metadata": {},
   "outputs": [],
   "source": [
    "import pandas as pd\n",
    "import numpy as np\n",
    "\n",
    "%matplotlib inline\n",
    "import matplotlib.pyplot as plt\n",
    "import seaborn as sns"
   ]
  },
  {
   "cell_type": "markdown",
   "metadata": {},
   "source": [
    "## DEL 1 - Priprava (30 pts)"
   ]
  },
  {
   "cell_type": "markdown",
   "metadata": {},
   "source": [
    "### 1.1) Uvoz podatkov \n",
    "\n",
    "`2 pts`"
   ]
  },
  {
   "cell_type": "markdown",
   "metadata": {},
   "source": [
    "Pridobili smo podatke registracije avtomobilov v Sloveniji za marec 2019. Datoteka se imenuje `DATA_vozila_marec_clean1.csv`. \n",
    "\n",
    "V spodnji spremenljivki je shranjena pot do datoteke. Naložite podatke v pandas dataframe, da jih lako uporabimo za nadaljno obdelavo."
   ]
  },
  {
   "cell_type": "code",
   "execution_count": 388,
   "metadata": {},
   "outputs": [],
   "source": [
    "path = 'data/DATA_vozila_RAW.csv'"
   ]
  },
  {
   "cell_type": "code",
   "execution_count": 389,
   "metadata": {},
   "outputs": [
    {
     "data": {
      "text/html": [
       "<div>\n",
       "<style scoped>\n",
       "    .dataframe tbody tr th:only-of-type {\n",
       "        vertical-align: middle;\n",
       "    }\n",
       "\n",
       "    .dataframe tbody tr th {\n",
       "        vertical-align: top;\n",
       "    }\n",
       "\n",
       "    .dataframe thead th {\n",
       "        text-align: right;\n",
       "    }\n",
       "</style>\n",
       "<table border=\"1\" class=\"dataframe\">\n",
       "  <thead>\n",
       "    <tr style=\"text-align: right;\">\n",
       "      <th></th>\n",
       "      <th>Unnamed: 0</th>\n",
       "      <th>Unnamed: 0.1</th>\n",
       "      <th>Datum prve registracije vozila</th>\n",
       "      <th>Registrsko obmocje tablice prve registracije</th>\n",
       "      <th>Starost uporabnika vozila</th>\n",
       "      <th>Spol uporabnika</th>\n",
       "      <th>Upravna enota uporabnika vozila</th>\n",
       "      <th>Znamka</th>\n",
       "      <th>Drzava (koda)</th>\n",
       "      <th>Masa vozila</th>\n",
       "      <th>Kategorija in vrsta vozila (opis)</th>\n",
       "      <th>Nazivna moc</th>\n",
       "      <th>Vrsta goriva (opis)</th>\n",
       "      <th>P.1.5-Oznaka motorja</th>\n",
       "      <th>S.1-Stevilo sedezev (vkljucno z vozniskim)</th>\n",
       "      <th>T-Najvisja hitrost</th>\n",
       "      <th>V.8-Kombinirana poraba goriva</th>\n",
       "      <th>Homologacijska</th>\n",
       "      <th>Dvtredu</th>\n",
       "      <th>Leto izdelave</th>\n",
       "    </tr>\n",
       "  </thead>\n",
       "  <tbody>\n",
       "    <tr>\n",
       "      <th>0</th>\n",
       "      <td>0</td>\n",
       "      <td>0</td>\n",
       "      <td>24.10.2007</td>\n",
       "      <td>KR?KO</td>\n",
       "      <td>61.0</td>\n",
       "      <td>M</td>\n",
       "      <td>2</td>\n",
       "      <td>BMW</td>\n",
       "      <td>DEU</td>\n",
       "      <td>223.0</td>\n",
       "      <td>motorno kolo</td>\n",
       "      <td>80.0</td>\n",
       "      <td>Bencin</td>\n",
       "      <td>122EF</td>\n",
       "      <td>2.0</td>\n",
       "      <td>215.0</td>\n",
       "      <td>NaN</td>\n",
       "      <td>NaN</td>\n",
       "      <td>NaN</td>\n",
       "      <td>2007</td>\n",
       "    </tr>\n",
       "    <tr>\n",
       "      <th>1</th>\n",
       "      <td>1</td>\n",
       "      <td>1</td>\n",
       "      <td>25.03.2019</td>\n",
       "      <td>MURSKA SOBOTA</td>\n",
       "      <td>58.0</td>\n",
       "      <td>Z</td>\n",
       "      <td>36</td>\n",
       "      <td>FIAT</td>\n",
       "      <td>ITA</td>\n",
       "      <td>1270.0</td>\n",
       "      <td>osebni avtomobil</td>\n",
       "      <td>70.0</td>\n",
       "      <td>Bencin</td>\n",
       "      <td>843A1000</td>\n",
       "      <td>5.0</td>\n",
       "      <td>185.0</td>\n",
       "      <td>7.7</td>\n",
       "      <td>NaN</td>\n",
       "      <td>NaN</td>\n",
       "      <td>2019</td>\n",
       "    </tr>\n",
       "    <tr>\n",
       "      <th>2</th>\n",
       "      <td>2</td>\n",
       "      <td>2</td>\n",
       "      <td>01.08.2008</td>\n",
       "      <td>CELJE</td>\n",
       "      <td>71.0</td>\n",
       "      <td>M</td>\n",
       "      <td>59</td>\n",
       "      <td>HONDA</td>\n",
       "      <td>JPN</td>\n",
       "      <td>242.0</td>\n",
       "      <td>motorno kolo</td>\n",
       "      <td>37.0</td>\n",
       "      <td>Bencin</td>\n",
       "      <td>PF01E</td>\n",
       "      <td>2.0</td>\n",
       "      <td>160.0</td>\n",
       "      <td>NaN</td>\n",
       "      <td>NaN</td>\n",
       "      <td>NaN</td>\n",
       "      <td>2008</td>\n",
       "    </tr>\n",
       "    <tr>\n",
       "      <th>3</th>\n",
       "      <td>3</td>\n",
       "      <td>3</td>\n",
       "      <td>08.03.2019</td>\n",
       "      <td>KRANJ</td>\n",
       "      <td>64.0</td>\n",
       "      <td>M</td>\n",
       "      <td>58</td>\n",
       "      <td>DEUTZ-FAHR</td>\n",
       "      <td>ITA</td>\n",
       "      <td>5200.0</td>\n",
       "      <td>traktor</td>\n",
       "      <td>53.0</td>\n",
       "      <td>Dizel</td>\n",
       "      <td>1000.3WTI3E3</td>\n",
       "      <td>1.0</td>\n",
       "      <td>40.0</td>\n",
       "      <td>NaN</td>\n",
       "      <td>NaN</td>\n",
       "      <td>40,8-92</td>\n",
       "      <td>2019</td>\n",
       "    </tr>\n",
       "    <tr>\n",
       "      <th>4</th>\n",
       "      <td>4</td>\n",
       "      <td>4</td>\n",
       "      <td>26.04.2011</td>\n",
       "      <td>NOVA GORICA</td>\n",
       "      <td>63.0</td>\n",
       "      <td>Z</td>\n",
       "      <td>37</td>\n",
       "      <td>MERCEDES BENZ</td>\n",
       "      <td>DEU</td>\n",
       "      <td>1435.0</td>\n",
       "      <td>osebni avtomobil</td>\n",
       "      <td>103.0</td>\n",
       "      <td>Dizel</td>\n",
       "      <td>640.941</td>\n",
       "      <td>5.0</td>\n",
       "      <td>200.0</td>\n",
       "      <td>5.3</td>\n",
       "      <td>NaN</td>\n",
       "      <td>NaN</td>\n",
       "      <td>2011</td>\n",
       "    </tr>\n",
       "  </tbody>\n",
       "</table>\n",
       "</div>"
      ],
      "text/plain": [
       "   Unnamed: 0  Unnamed: 0.1 Datum prve registracije vozila  \\\n",
       "0           0             0                     24.10.2007   \n",
       "1           1             1                     25.03.2019   \n",
       "2           2             2                     01.08.2008   \n",
       "3           3             3                     08.03.2019   \n",
       "4           4             4                     26.04.2011   \n",
       "\n",
       "  Registrsko obmocje tablice prve registracije Starost uporabnika vozila  \\\n",
       "0                                        KR?KO                      61.0   \n",
       "1                                MURSKA SOBOTA                      58.0   \n",
       "2                                        CELJE                      71.0   \n",
       "3                                        KRANJ                      64.0   \n",
       "4                                  NOVA GORICA                      63.0   \n",
       "\n",
       "  Spol uporabnika  Upravna enota uporabnika vozila         Znamka  \\\n",
       "0               M                                2            BMW   \n",
       "1               Z                               36           FIAT   \n",
       "2               M                               59          HONDA   \n",
       "3               M                               58     DEUTZ-FAHR   \n",
       "4               Z                               37  MERCEDES BENZ   \n",
       "\n",
       "  Drzava (koda)  Masa vozila Kategorija in vrsta vozila (opis)  Nazivna moc  \\\n",
       "0           DEU        223.0                      motorno kolo         80.0   \n",
       "1           ITA       1270.0                  osebni avtomobil         70.0   \n",
       "2           JPN        242.0                      motorno kolo         37.0   \n",
       "3           ITA       5200.0                           traktor         53.0   \n",
       "4           DEU       1435.0                  osebni avtomobil        103.0   \n",
       "\n",
       "  Vrsta goriva (opis) P.1.5-Oznaka motorja  \\\n",
       "0              Bencin                122EF   \n",
       "1              Bencin             843A1000   \n",
       "2              Bencin                PF01E   \n",
       "3               Dizel         1000.3WTI3E3   \n",
       "4               Dizel              640.941   \n",
       "\n",
       "  S.1-Stevilo sedezev (vkljucno z vozniskim) T-Najvisja hitrost  \\\n",
       "0                                        2.0              215.0   \n",
       "1                                        5.0              185.0   \n",
       "2                                        2.0              160.0   \n",
       "3                                        1.0               40.0   \n",
       "4                                        5.0              200.0   \n",
       "\n",
       "   V.8-Kombinirana poraba goriva Homologacijska  Dvtredu  Leto izdelave  \n",
       "0                            NaN            NaN      NaN           2007  \n",
       "1                            7.7            NaN      NaN           2019  \n",
       "2                            NaN            NaN      NaN           2008  \n",
       "3                            NaN            NaN  40,8-92           2019  \n",
       "4                            5.3            NaN      NaN           2011  "
      ]
     },
     "execution_count": 389,
     "metadata": {},
     "output_type": "execute_result"
    }
   ],
   "source": [
    "# Odgovor\n",
    "df = pd.read_csv(path, delimiter=';',decimal=',')\n",
    "df.head()\n"
   ]
  },
  {
   "cell_type": "markdown",
   "metadata": {},
   "source": [
    "### 1.2) Prikaz osnovnih lastnosti podatkov"
   ]
  },
  {
   "cell_type": "markdown",
   "metadata": {},
   "source": [
    "#### 1.2.1) Prikažite obliko uvoženega dataframe-a\n",
    "\n",
    "`1 pts`"
   ]
  },
  {
   "cell_type": "code",
   "execution_count": 390,
   "metadata": {},
   "outputs": [
    {
     "data": {
      "text/plain": [
       "(14649, 20)"
      ]
     },
     "execution_count": 390,
     "metadata": {},
     "output_type": "execute_result"
    }
   ],
   "source": [
    "# Odgovor\n",
    "df.shape\n",
    "\n"
   ]
  },
  {
   "cell_type": "markdown",
   "metadata": {},
   "source": [
    "#### 1.2.2) Prikažite tipe spremenljivk za vsak stolpec uvoženega dataframe-a\n",
    "\n",
    "`1 pts`"
   ]
  },
  {
   "cell_type": "code",
   "execution_count": 391,
   "metadata": {},
   "outputs": [
    {
     "data": {
      "text/plain": [
       "Unnamed: 0                                        int64\n",
       "Unnamed: 0.1                                      int64\n",
       "Datum prve registracije vozila                   object\n",
       "Registrsko obmocje tablice prve registracije     object\n",
       "Starost uporabnika vozila                        object\n",
       "Spol uporabnika                                  object\n",
       "Upravna enota uporabnika vozila                   int64\n",
       "Znamka                                           object\n",
       "Drzava (koda)                                    object\n",
       "Masa vozila                                     float64\n",
       "Kategorija in vrsta vozila (opis)                object\n",
       "Nazivna moc                                     float64\n",
       "Vrsta goriva (opis)                              object\n",
       "P.1.5-Oznaka motorja                             object\n",
       "S.1-Stevilo sedezev (vkljucno z vozniskim)       object\n",
       "T-Najvisja hitrost                               object\n",
       "V.8-Kombinirana poraba goriva                   float64\n",
       "Homologacijska                                   object\n",
       "Dvtredu                                          object\n",
       "Leto izdelave                                     int64\n",
       "dtype: object"
      ]
     },
     "execution_count": 391,
     "metadata": {},
     "output_type": "execute_result"
    }
   ],
   "source": [
    "# Odgovor\n",
    "df.dtypes"
   ]
  },
  {
   "cell_type": "markdown",
   "metadata": {},
   "source": [
    "#### 1.2.3) Prikažite prvih 7 vrstic uvoženega dataframe-a\n",
    "\n",
    "`1 pts`"
   ]
  },
  {
   "cell_type": "code",
   "execution_count": 392,
   "metadata": {},
   "outputs": [
    {
     "data": {
      "text/html": [
       "<div>\n",
       "<style scoped>\n",
       "    .dataframe tbody tr th:only-of-type {\n",
       "        vertical-align: middle;\n",
       "    }\n",
       "\n",
       "    .dataframe tbody tr th {\n",
       "        vertical-align: top;\n",
       "    }\n",
       "\n",
       "    .dataframe thead th {\n",
       "        text-align: right;\n",
       "    }\n",
       "</style>\n",
       "<table border=\"1\" class=\"dataframe\">\n",
       "  <thead>\n",
       "    <tr style=\"text-align: right;\">\n",
       "      <th></th>\n",
       "      <th>Unnamed: 0</th>\n",
       "      <th>Unnamed: 0.1</th>\n",
       "      <th>Datum prve registracije vozila</th>\n",
       "      <th>Registrsko obmocje tablice prve registracije</th>\n",
       "      <th>Starost uporabnika vozila</th>\n",
       "      <th>Spol uporabnika</th>\n",
       "      <th>Upravna enota uporabnika vozila</th>\n",
       "      <th>Znamka</th>\n",
       "      <th>Drzava (koda)</th>\n",
       "      <th>Masa vozila</th>\n",
       "      <th>Kategorija in vrsta vozila (opis)</th>\n",
       "      <th>Nazivna moc</th>\n",
       "      <th>Vrsta goriva (opis)</th>\n",
       "      <th>P.1.5-Oznaka motorja</th>\n",
       "      <th>S.1-Stevilo sedezev (vkljucno z vozniskim)</th>\n",
       "      <th>T-Najvisja hitrost</th>\n",
       "      <th>V.8-Kombinirana poraba goriva</th>\n",
       "      <th>Homologacijska</th>\n",
       "      <th>Dvtredu</th>\n",
       "      <th>Leto izdelave</th>\n",
       "    </tr>\n",
       "  </thead>\n",
       "  <tbody>\n",
       "    <tr>\n",
       "      <th>0</th>\n",
       "      <td>0</td>\n",
       "      <td>0</td>\n",
       "      <td>24.10.2007</td>\n",
       "      <td>KR?KO</td>\n",
       "      <td>61.0</td>\n",
       "      <td>M</td>\n",
       "      <td>2</td>\n",
       "      <td>BMW</td>\n",
       "      <td>DEU</td>\n",
       "      <td>223.0</td>\n",
       "      <td>motorno kolo</td>\n",
       "      <td>80.0</td>\n",
       "      <td>Bencin</td>\n",
       "      <td>122EF</td>\n",
       "      <td>2.0</td>\n",
       "      <td>215.0</td>\n",
       "      <td>NaN</td>\n",
       "      <td>NaN</td>\n",
       "      <td>NaN</td>\n",
       "      <td>2007</td>\n",
       "    </tr>\n",
       "    <tr>\n",
       "      <th>1</th>\n",
       "      <td>1</td>\n",
       "      <td>1</td>\n",
       "      <td>25.03.2019</td>\n",
       "      <td>MURSKA SOBOTA</td>\n",
       "      <td>58.0</td>\n",
       "      <td>Z</td>\n",
       "      <td>36</td>\n",
       "      <td>FIAT</td>\n",
       "      <td>ITA</td>\n",
       "      <td>1270.0</td>\n",
       "      <td>osebni avtomobil</td>\n",
       "      <td>70.0</td>\n",
       "      <td>Bencin</td>\n",
       "      <td>843A1000</td>\n",
       "      <td>5.0</td>\n",
       "      <td>185.0</td>\n",
       "      <td>7.7</td>\n",
       "      <td>NaN</td>\n",
       "      <td>NaN</td>\n",
       "      <td>2019</td>\n",
       "    </tr>\n",
       "    <tr>\n",
       "      <th>2</th>\n",
       "      <td>2</td>\n",
       "      <td>2</td>\n",
       "      <td>01.08.2008</td>\n",
       "      <td>CELJE</td>\n",
       "      <td>71.0</td>\n",
       "      <td>M</td>\n",
       "      <td>59</td>\n",
       "      <td>HONDA</td>\n",
       "      <td>JPN</td>\n",
       "      <td>242.0</td>\n",
       "      <td>motorno kolo</td>\n",
       "      <td>37.0</td>\n",
       "      <td>Bencin</td>\n",
       "      <td>PF01E</td>\n",
       "      <td>2.0</td>\n",
       "      <td>160.0</td>\n",
       "      <td>NaN</td>\n",
       "      <td>NaN</td>\n",
       "      <td>NaN</td>\n",
       "      <td>2008</td>\n",
       "    </tr>\n",
       "    <tr>\n",
       "      <th>3</th>\n",
       "      <td>3</td>\n",
       "      <td>3</td>\n",
       "      <td>08.03.2019</td>\n",
       "      <td>KRANJ</td>\n",
       "      <td>64.0</td>\n",
       "      <td>M</td>\n",
       "      <td>58</td>\n",
       "      <td>DEUTZ-FAHR</td>\n",
       "      <td>ITA</td>\n",
       "      <td>5200.0</td>\n",
       "      <td>traktor</td>\n",
       "      <td>53.0</td>\n",
       "      <td>Dizel</td>\n",
       "      <td>1000.3WTI3E3</td>\n",
       "      <td>1.0</td>\n",
       "      <td>40.0</td>\n",
       "      <td>NaN</td>\n",
       "      <td>NaN</td>\n",
       "      <td>40,8-92</td>\n",
       "      <td>2019</td>\n",
       "    </tr>\n",
       "    <tr>\n",
       "      <th>4</th>\n",
       "      <td>4</td>\n",
       "      <td>4</td>\n",
       "      <td>26.04.2011</td>\n",
       "      <td>NOVA GORICA</td>\n",
       "      <td>63.0</td>\n",
       "      <td>Z</td>\n",
       "      <td>37</td>\n",
       "      <td>MERCEDES BENZ</td>\n",
       "      <td>DEU</td>\n",
       "      <td>1435.0</td>\n",
       "      <td>osebni avtomobil</td>\n",
       "      <td>103.0</td>\n",
       "      <td>Dizel</td>\n",
       "      <td>640.941</td>\n",
       "      <td>5.0</td>\n",
       "      <td>200.0</td>\n",
       "      <td>5.3</td>\n",
       "      <td>NaN</td>\n",
       "      <td>NaN</td>\n",
       "      <td>2011</td>\n",
       "    </tr>\n",
       "    <tr>\n",
       "      <th>5</th>\n",
       "      <td>5</td>\n",
       "      <td>5</td>\n",
       "      <td>16.10.2015</td>\n",
       "      <td>MURSKA SOBOTA</td>\n",
       "      <td>56.0</td>\n",
       "      <td>M</td>\n",
       "      <td>36</td>\n",
       "      <td>AUDI</td>\n",
       "      <td>DEU</td>\n",
       "      <td>1615.0</td>\n",
       "      <td>osebni avtomobil</td>\n",
       "      <td>100.0</td>\n",
       "      <td>Dizel</td>\n",
       "      <td>CSU</td>\n",
       "      <td>5.0</td>\n",
       "      <td>215.0</td>\n",
       "      <td>4.0</td>\n",
       "      <td>NaN</td>\n",
       "      <td>NaN</td>\n",
       "      <td>2015</td>\n",
       "    </tr>\n",
       "    <tr>\n",
       "      <th>6</th>\n",
       "      <td>6</td>\n",
       "      <td>6</td>\n",
       "      <td>17.04.2015</td>\n",
       "      <td>MARIBOR</td>\n",
       "      <td>47.0</td>\n",
       "      <td>M</td>\n",
       "      <td>42</td>\n",
       "      <td>AUDI</td>\n",
       "      <td>DEU</td>\n",
       "      <td>1910.0</td>\n",
       "      <td>osebni avtomobil</td>\n",
       "      <td>200.0</td>\n",
       "      <td>Dizel</td>\n",
       "      <td>CRT</td>\n",
       "      <td>5.0</td>\n",
       "      <td>250.0</td>\n",
       "      <td>5.3</td>\n",
       "      <td>NaN</td>\n",
       "      <td>NaN</td>\n",
       "      <td>2015</td>\n",
       "    </tr>\n",
       "  </tbody>\n",
       "</table>\n",
       "</div>"
      ],
      "text/plain": [
       "   Unnamed: 0  Unnamed: 0.1 Datum prve registracije vozila  \\\n",
       "0           0             0                     24.10.2007   \n",
       "1           1             1                     25.03.2019   \n",
       "2           2             2                     01.08.2008   \n",
       "3           3             3                     08.03.2019   \n",
       "4           4             4                     26.04.2011   \n",
       "5           5             5                     16.10.2015   \n",
       "6           6             6                     17.04.2015   \n",
       "\n",
       "  Registrsko obmocje tablice prve registracije Starost uporabnika vozila  \\\n",
       "0                                        KR?KO                      61.0   \n",
       "1                                MURSKA SOBOTA                      58.0   \n",
       "2                                        CELJE                      71.0   \n",
       "3                                        KRANJ                      64.0   \n",
       "4                                  NOVA GORICA                      63.0   \n",
       "5                                MURSKA SOBOTA                      56.0   \n",
       "6                                      MARIBOR                      47.0   \n",
       "\n",
       "  Spol uporabnika  Upravna enota uporabnika vozila         Znamka  \\\n",
       "0               M                                2            BMW   \n",
       "1               Z                               36           FIAT   \n",
       "2               M                               59          HONDA   \n",
       "3               M                               58     DEUTZ-FAHR   \n",
       "4               Z                               37  MERCEDES BENZ   \n",
       "5               M                               36           AUDI   \n",
       "6               M                               42           AUDI   \n",
       "\n",
       "  Drzava (koda)  Masa vozila Kategorija in vrsta vozila (opis)  Nazivna moc  \\\n",
       "0           DEU        223.0                      motorno kolo         80.0   \n",
       "1           ITA       1270.0                  osebni avtomobil         70.0   \n",
       "2           JPN        242.0                      motorno kolo         37.0   \n",
       "3           ITA       5200.0                           traktor         53.0   \n",
       "4           DEU       1435.0                  osebni avtomobil        103.0   \n",
       "5           DEU       1615.0                  osebni avtomobil        100.0   \n",
       "6           DEU       1910.0                  osebni avtomobil        200.0   \n",
       "\n",
       "  Vrsta goriva (opis) P.1.5-Oznaka motorja  \\\n",
       "0              Bencin                122EF   \n",
       "1              Bencin             843A1000   \n",
       "2              Bencin                PF01E   \n",
       "3               Dizel         1000.3WTI3E3   \n",
       "4               Dizel              640.941   \n",
       "5               Dizel                  CSU   \n",
       "6               Dizel                  CRT   \n",
       "\n",
       "  S.1-Stevilo sedezev (vkljucno z vozniskim) T-Najvisja hitrost  \\\n",
       "0                                        2.0              215.0   \n",
       "1                                        5.0              185.0   \n",
       "2                                        2.0              160.0   \n",
       "3                                        1.0               40.0   \n",
       "4                                        5.0              200.0   \n",
       "5                                        5.0              215.0   \n",
       "6                                        5.0              250.0   \n",
       "\n",
       "   V.8-Kombinirana poraba goriva Homologacijska  Dvtredu  Leto izdelave  \n",
       "0                            NaN            NaN      NaN           2007  \n",
       "1                            7.7            NaN      NaN           2019  \n",
       "2                            NaN            NaN      NaN           2008  \n",
       "3                            NaN            NaN  40,8-92           2019  \n",
       "4                            5.3            NaN      NaN           2011  \n",
       "5                            4.0            NaN      NaN           2015  \n",
       "6                            5.3            NaN      NaN           2015  "
      ]
     },
     "execution_count": 392,
     "metadata": {},
     "output_type": "execute_result"
    }
   ],
   "source": [
    "# Odgovor\n",
    "\n",
    "df.head(7)"
   ]
  },
  {
   "cell_type": "markdown",
   "metadata": {},
   "source": [
    "#### 1.2.4) Prikažite zadnjih 6 vrstic uvoženega dataframe-a\n",
    "\n",
    "`1 pts`"
   ]
  },
  {
   "cell_type": "code",
   "execution_count": 393,
   "metadata": {},
   "outputs": [
    {
     "data": {
      "text/html": [
       "<div>\n",
       "<style scoped>\n",
       "    .dataframe tbody tr th:only-of-type {\n",
       "        vertical-align: middle;\n",
       "    }\n",
       "\n",
       "    .dataframe tbody tr th {\n",
       "        vertical-align: top;\n",
       "    }\n",
       "\n",
       "    .dataframe thead th {\n",
       "        text-align: right;\n",
       "    }\n",
       "</style>\n",
       "<table border=\"1\" class=\"dataframe\">\n",
       "  <thead>\n",
       "    <tr style=\"text-align: right;\">\n",
       "      <th></th>\n",
       "      <th>Unnamed: 0</th>\n",
       "      <th>Unnamed: 0.1</th>\n",
       "      <th>Datum prve registracije vozila</th>\n",
       "      <th>Registrsko obmocje tablice prve registracije</th>\n",
       "      <th>Starost uporabnika vozila</th>\n",
       "      <th>Spol uporabnika</th>\n",
       "      <th>Upravna enota uporabnika vozila</th>\n",
       "      <th>Znamka</th>\n",
       "      <th>Drzava (koda)</th>\n",
       "      <th>Masa vozila</th>\n",
       "      <th>Kategorija in vrsta vozila (opis)</th>\n",
       "      <th>Nazivna moc</th>\n",
       "      <th>Vrsta goriva (opis)</th>\n",
       "      <th>P.1.5-Oznaka motorja</th>\n",
       "      <th>S.1-Stevilo sedezev (vkljucno z vozniskim)</th>\n",
       "      <th>T-Najvisja hitrost</th>\n",
       "      <th>V.8-Kombinirana poraba goriva</th>\n",
       "      <th>Homologacijska</th>\n",
       "      <th>Dvtredu</th>\n",
       "      <th>Leto izdelave</th>\n",
       "    </tr>\n",
       "  </thead>\n",
       "  <tbody>\n",
       "    <tr>\n",
       "      <th>14643</th>\n",
       "      <td>14643</td>\n",
       "      <td>14643</td>\n",
       "      <td>29.03.2019</td>\n",
       "      <td>KRANJ</td>\n",
       "      <td>22.0</td>\n",
       "      <td>Z</td>\n",
       "      <td>24</td>\n",
       "      <td>VOLKSWAGEN</td>\n",
       "      <td>DEU</td>\n",
       "      <td>1125.0</td>\n",
       "      <td>osebni avtomobil</td>\n",
       "      <td>59.0</td>\n",
       "      <td>Bencin</td>\n",
       "      <td>DFN</td>\n",
       "      <td>5.0</td>\n",
       "      <td>171.0</td>\n",
       "      <td>5.8</td>\n",
       "      <td>NaN</td>\n",
       "      <td>-</td>\n",
       "      <td>2019</td>\n",
       "    </tr>\n",
       "    <tr>\n",
       "      <th>14644</th>\n",
       "      <td>14644</td>\n",
       "      <td>14644</td>\n",
       "      <td>29.03.2019</td>\n",
       "      <td>KOPER</td>\n",
       "      <td>20.0</td>\n",
       "      <td>M</td>\n",
       "      <td>48</td>\n",
       "      <td>RENAULT</td>\n",
       "      <td>FRA</td>\n",
       "      <td>1442.0</td>\n",
       "      <td>osebni avtomobil</td>\n",
       "      <td>85.0</td>\n",
       "      <td>Dizel</td>\n",
       "      <td>K9K U8</td>\n",
       "      <td>5.0</td>\n",
       "      <td>190.0</td>\n",
       "      <td>4.6</td>\n",
       "      <td>NaN</td>\n",
       "      <td>NaN</td>\n",
       "      <td>2019</td>\n",
       "    </tr>\n",
       "    <tr>\n",
       "      <th>14645</th>\n",
       "      <td>14645</td>\n",
       "      <td>14645</td>\n",
       "      <td>18.06.2015</td>\n",
       "      <td>MURSKA SOBOTA</td>\n",
       "      <td>21.0</td>\n",
       "      <td>M</td>\n",
       "      <td>36</td>\n",
       "      <td>MERCEDES BENZ</td>\n",
       "      <td>DEU</td>\n",
       "      <td>1525.0</td>\n",
       "      <td>osebni avtomobil</td>\n",
       "      <td>130.0</td>\n",
       "      <td>Dizel</td>\n",
       "      <td>651.930</td>\n",
       "      <td>5.0</td>\n",
       "      <td>232.0</td>\n",
       "      <td>4.2</td>\n",
       "      <td>NaN</td>\n",
       "      <td>NaN</td>\n",
       "      <td>2015</td>\n",
       "    </tr>\n",
       "    <tr>\n",
       "      <th>14646</th>\n",
       "      <td>14646</td>\n",
       "      <td>14646</td>\n",
       "      <td>29.03.2019</td>\n",
       "      <td>MARIBOR</td>\n",
       "      <td>21.0</td>\n",
       "      <td>Z</td>\n",
       "      <td>50</td>\n",
       "      <td>KIA</td>\n",
       "      <td>SVK</td>\n",
       "      <td>1260.0</td>\n",
       "      <td>osebni avtomobil</td>\n",
       "      <td>73.3</td>\n",
       "      <td>Bencin</td>\n",
       "      <td>G4LC</td>\n",
       "      <td>5.0</td>\n",
       "      <td>183.0</td>\n",
       "      <td>6.4</td>\n",
       "      <td>e4*1005/2010*1005/2010*0265*02</td>\n",
       "      <td>NaN</td>\n",
       "      <td>2019</td>\n",
       "    </tr>\n",
       "    <tr>\n",
       "      <th>14647</th>\n",
       "      <td>14647</td>\n",
       "      <td>14647</td>\n",
       "      <td>29.03.2019</td>\n",
       "      <td>NOVO MESTO</td>\n",
       "      <td>NaN</td>\n",
       "      <td>NaN</td>\n",
       "      <td>38</td>\n",
       "      <td>FORD</td>\n",
       "      <td>DEU</td>\n",
       "      <td>2316.0</td>\n",
       "      <td>tovorno vozilo</td>\n",
       "      <td>147.0</td>\n",
       "      <td>Dizel</td>\n",
       "      <td>SA2W</td>\n",
       "      <td>5.0</td>\n",
       "      <td>175.0</td>\n",
       "      <td>8.7</td>\n",
       "      <td>E11 55R-018151, 018152, E11 55R-0110910,</td>\n",
       "      <td>16,4</td>\n",
       "      <td>2019</td>\n",
       "    </tr>\n",
       "    <tr>\n",
       "      <th>14648</th>\n",
       "      <td>14648</td>\n",
       "      <td>14648</td>\n",
       "      <td>29.03.2019</td>\n",
       "      <td>MARIBOR</td>\n",
       "      <td>73.0</td>\n",
       "      <td>Z</td>\n",
       "      <td>64</td>\n",
       "      <td>DACIA</td>\n",
       "      <td>ROM</td>\n",
       "      <td>1084.0</td>\n",
       "      <td>osebni avtomobil</td>\n",
       "      <td>54.0</td>\n",
       "      <td>Bencin</td>\n",
       "      <td>B4D E4</td>\n",
       "      <td>5.0</td>\n",
       "      <td>158.0</td>\n",
       "      <td>6.3</td>\n",
       "      <td>NaN</td>\n",
       "      <td>NaN</td>\n",
       "      <td>2019</td>\n",
       "    </tr>\n",
       "  </tbody>\n",
       "</table>\n",
       "</div>"
      ],
      "text/plain": [
       "       Unnamed: 0  Unnamed: 0.1 Datum prve registracije vozila  \\\n",
       "14643       14643         14643                     29.03.2019   \n",
       "14644       14644         14644                     29.03.2019   \n",
       "14645       14645         14645                     18.06.2015   \n",
       "14646       14646         14646                     29.03.2019   \n",
       "14647       14647         14647                     29.03.2019   \n",
       "14648       14648         14648                     29.03.2019   \n",
       "\n",
       "      Registrsko obmocje tablice prve registracije Starost uporabnika vozila  \\\n",
       "14643                                        KRANJ                      22.0   \n",
       "14644                                        KOPER                      20.0   \n",
       "14645                                MURSKA SOBOTA                      21.0   \n",
       "14646                                      MARIBOR                      21.0   \n",
       "14647                                   NOVO MESTO                       NaN   \n",
       "14648                                      MARIBOR                      73.0   \n",
       "\n",
       "      Spol uporabnika  Upravna enota uporabnika vozila         Znamka  \\\n",
       "14643               Z                               24     VOLKSWAGEN   \n",
       "14644               M                               48        RENAULT   \n",
       "14645               M                               36  MERCEDES BENZ   \n",
       "14646               Z                               50            KIA   \n",
       "14647             NaN                               38           FORD   \n",
       "14648               Z                               64          DACIA   \n",
       "\n",
       "      Drzava (koda)  Masa vozila Kategorija in vrsta vozila (opis)  \\\n",
       "14643           DEU       1125.0                  osebni avtomobil   \n",
       "14644           FRA       1442.0                  osebni avtomobil   \n",
       "14645           DEU       1525.0                  osebni avtomobil   \n",
       "14646           SVK       1260.0                  osebni avtomobil   \n",
       "14647           DEU       2316.0                    tovorno vozilo   \n",
       "14648           ROM       1084.0                  osebni avtomobil   \n",
       "\n",
       "       Nazivna moc Vrsta goriva (opis) P.1.5-Oznaka motorja  \\\n",
       "14643         59.0              Bencin                  DFN   \n",
       "14644         85.0               Dizel               K9K U8   \n",
       "14645        130.0               Dizel              651.930   \n",
       "14646         73.3              Bencin                 G4LC   \n",
       "14647        147.0               Dizel                 SA2W   \n",
       "14648         54.0              Bencin               B4D E4   \n",
       "\n",
       "      S.1-Stevilo sedezev (vkljucno z vozniskim) T-Najvisja hitrost  \\\n",
       "14643                                        5.0              171.0   \n",
       "14644                                        5.0              190.0   \n",
       "14645                                        5.0              232.0   \n",
       "14646                                        5.0              183.0   \n",
       "14647                                        5.0              175.0   \n",
       "14648                                        5.0              158.0   \n",
       "\n",
       "       V.8-Kombinirana poraba goriva  \\\n",
       "14643                            5.8   \n",
       "14644                            4.6   \n",
       "14645                            4.2   \n",
       "14646                            6.4   \n",
       "14647                            8.7   \n",
       "14648                            6.3   \n",
       "\n",
       "                                 Homologacijska Dvtredu  Leto izdelave  \n",
       "14643                                       NaN       -           2019  \n",
       "14644                                       NaN     NaN           2019  \n",
       "14645                                       NaN     NaN           2015  \n",
       "14646            e4*1005/2010*1005/2010*0265*02     NaN           2019  \n",
       "14647  E11 55R-018151, 018152, E11 55R-0110910,    16,4           2019  \n",
       "14648                                       NaN     NaN           2019  "
      ]
     },
     "execution_count": 393,
     "metadata": {},
     "output_type": "execute_result"
    }
   ],
   "source": [
    "# Odgovor\n",
    "\n",
    "df.tail(6)"
   ]
  },
  {
   "cell_type": "markdown",
   "metadata": {},
   "source": [
    "#### 1.2.5) Prikažite informacije (velikost df, podatkovni tipi, pomnilnik...) uvoženega dataframe-a z uporabo ene metode\n",
    "\n",
    "`1 pts`"
   ]
  },
  {
   "cell_type": "code",
   "execution_count": 394,
   "metadata": {},
   "outputs": [
    {
     "name": "stdout",
     "output_type": "stream",
     "text": [
      "<class 'pandas.core.frame.DataFrame'>\n",
      "RangeIndex: 14649 entries, 0 to 14648\n",
      "Data columns (total 20 columns):\n",
      "Unnamed: 0                                      14649 non-null int64\n",
      "Unnamed: 0.1                                    14649 non-null int64\n",
      "Datum prve registracije vozila                  14649 non-null object\n",
      "Registrsko obmocje tablice prve registracije    14649 non-null object\n",
      "Starost uporabnika vozila                       8300 non-null object\n",
      "Spol uporabnika                                 8300 non-null object\n",
      "Upravna enota uporabnika vozila                 14649 non-null int64\n",
      "Znamka                                          14649 non-null object\n",
      "Drzava (koda)                                   14649 non-null object\n",
      "Masa vozila                                     14649 non-null float64\n",
      "Kategorija in vrsta vozila (opis)               14649 non-null object\n",
      "Nazivna moc                                     14649 non-null float64\n",
      "Vrsta goriva (opis)                             14649 non-null object\n",
      "P.1.5-Oznaka motorja                            13912 non-null object\n",
      "S.1-Stevilo sedezev (vkljucno z vozniskim)      14229 non-null object\n",
      "T-Najvisja hitrost                              14344 non-null object\n",
      "V.8-Kombinirana poraba goriva                   12028 non-null float64\n",
      "Homologacijska                                  3140 non-null object\n",
      "Dvtredu                                         4690 non-null object\n",
      "Leto izdelave                                   14649 non-null int64\n",
      "dtypes: float64(3), int64(4), object(13)\n",
      "memory usage: 2.2+ MB\n"
     ]
    }
   ],
   "source": [
    "# Odgovor\n",
    "df.info()\n",
    "\n",
    "\n"
   ]
  },
  {
   "cell_type": "markdown",
   "metadata": {},
   "source": [
    "### 1.3) Priprava podatkov za obdelavo\n",
    "\n",
    "Pred analizo podatkov moramo naše podatke urediti in pripraviti."
   ]
  },
  {
   "cell_type": "markdown",
   "metadata": {},
   "source": [
    "#### 1.3.1) Odstrnjevanje nepotrebnih stolpcev\n",
    "\n",
    "Odstranite nepotrebne stolpce iz naših podatkov. Imena nepotrebnih stolpcev so shanjena v spodnji spremenljivki `to_drop`.\n",
    "\n",
    "Operacijo opravite na mestu (inplace).\n",
    "\n",
    "`2 pts`"
   ]
  },
  {
   "cell_type": "code",
   "execution_count": 395,
   "metadata": {},
   "outputs": [],
   "source": [
    "to_drop = ['Unnamed: 0', 'Unnamed: 0.1', 'P.1.5-Oznaka motorja', 'Homologacijska', 'Dvtredu']"
   ]
  },
  {
   "cell_type": "code",
   "execution_count": 396,
   "metadata": {},
   "outputs": [],
   "source": [
    "# Odgovor\n",
    "df.drop(columns=to_drop, inplace=True)\n"
   ]
  },
  {
   "cell_type": "code",
   "execution_count": 397,
   "metadata": {},
   "outputs": [
    {
     "data": {
      "text/html": [
       "<div>\n",
       "<style scoped>\n",
       "    .dataframe tbody tr th:only-of-type {\n",
       "        vertical-align: middle;\n",
       "    }\n",
       "\n",
       "    .dataframe tbody tr th {\n",
       "        vertical-align: top;\n",
       "    }\n",
       "\n",
       "    .dataframe thead th {\n",
       "        text-align: right;\n",
       "    }\n",
       "</style>\n",
       "<table border=\"1\" class=\"dataframe\">\n",
       "  <thead>\n",
       "    <tr style=\"text-align: right;\">\n",
       "      <th></th>\n",
       "      <th>Datum prve registracije vozila</th>\n",
       "      <th>Registrsko obmocje tablice prve registracije</th>\n",
       "      <th>Starost uporabnika vozila</th>\n",
       "      <th>Spol uporabnika</th>\n",
       "      <th>Upravna enota uporabnika vozila</th>\n",
       "      <th>Znamka</th>\n",
       "      <th>Drzava (koda)</th>\n",
       "      <th>Masa vozila</th>\n",
       "      <th>Kategorija in vrsta vozila (opis)</th>\n",
       "      <th>Nazivna moc</th>\n",
       "      <th>Vrsta goriva (opis)</th>\n",
       "      <th>S.1-Stevilo sedezev (vkljucno z vozniskim)</th>\n",
       "      <th>T-Najvisja hitrost</th>\n",
       "      <th>V.8-Kombinirana poraba goriva</th>\n",
       "      <th>Leto izdelave</th>\n",
       "    </tr>\n",
       "  </thead>\n",
       "  <tbody>\n",
       "    <tr>\n",
       "      <th>0</th>\n",
       "      <td>24.10.2007</td>\n",
       "      <td>KR?KO</td>\n",
       "      <td>61.0</td>\n",
       "      <td>M</td>\n",
       "      <td>2</td>\n",
       "      <td>BMW</td>\n",
       "      <td>DEU</td>\n",
       "      <td>223.0</td>\n",
       "      <td>motorno kolo</td>\n",
       "      <td>80.0</td>\n",
       "      <td>Bencin</td>\n",
       "      <td>2.0</td>\n",
       "      <td>215.0</td>\n",
       "      <td>NaN</td>\n",
       "      <td>2007</td>\n",
       "    </tr>\n",
       "    <tr>\n",
       "      <th>1</th>\n",
       "      <td>25.03.2019</td>\n",
       "      <td>MURSKA SOBOTA</td>\n",
       "      <td>58.0</td>\n",
       "      <td>Z</td>\n",
       "      <td>36</td>\n",
       "      <td>FIAT</td>\n",
       "      <td>ITA</td>\n",
       "      <td>1270.0</td>\n",
       "      <td>osebni avtomobil</td>\n",
       "      <td>70.0</td>\n",
       "      <td>Bencin</td>\n",
       "      <td>5.0</td>\n",
       "      <td>185.0</td>\n",
       "      <td>7.7</td>\n",
       "      <td>2019</td>\n",
       "    </tr>\n",
       "    <tr>\n",
       "      <th>2</th>\n",
       "      <td>01.08.2008</td>\n",
       "      <td>CELJE</td>\n",
       "      <td>71.0</td>\n",
       "      <td>M</td>\n",
       "      <td>59</td>\n",
       "      <td>HONDA</td>\n",
       "      <td>JPN</td>\n",
       "      <td>242.0</td>\n",
       "      <td>motorno kolo</td>\n",
       "      <td>37.0</td>\n",
       "      <td>Bencin</td>\n",
       "      <td>2.0</td>\n",
       "      <td>160.0</td>\n",
       "      <td>NaN</td>\n",
       "      <td>2008</td>\n",
       "    </tr>\n",
       "    <tr>\n",
       "      <th>3</th>\n",
       "      <td>08.03.2019</td>\n",
       "      <td>KRANJ</td>\n",
       "      <td>64.0</td>\n",
       "      <td>M</td>\n",
       "      <td>58</td>\n",
       "      <td>DEUTZ-FAHR</td>\n",
       "      <td>ITA</td>\n",
       "      <td>5200.0</td>\n",
       "      <td>traktor</td>\n",
       "      <td>53.0</td>\n",
       "      <td>Dizel</td>\n",
       "      <td>1.0</td>\n",
       "      <td>40.0</td>\n",
       "      <td>NaN</td>\n",
       "      <td>2019</td>\n",
       "    </tr>\n",
       "    <tr>\n",
       "      <th>4</th>\n",
       "      <td>26.04.2011</td>\n",
       "      <td>NOVA GORICA</td>\n",
       "      <td>63.0</td>\n",
       "      <td>Z</td>\n",
       "      <td>37</td>\n",
       "      <td>MERCEDES BENZ</td>\n",
       "      <td>DEU</td>\n",
       "      <td>1435.0</td>\n",
       "      <td>osebni avtomobil</td>\n",
       "      <td>103.0</td>\n",
       "      <td>Dizel</td>\n",
       "      <td>5.0</td>\n",
       "      <td>200.0</td>\n",
       "      <td>5.3</td>\n",
       "      <td>2011</td>\n",
       "    </tr>\n",
       "  </tbody>\n",
       "</table>\n",
       "</div>"
      ],
      "text/plain": [
       "  Datum prve registracije vozila Registrsko obmocje tablice prve registracije  \\\n",
       "0                     24.10.2007                                        KR?KO   \n",
       "1                     25.03.2019                                MURSKA SOBOTA   \n",
       "2                     01.08.2008                                        CELJE   \n",
       "3                     08.03.2019                                        KRANJ   \n",
       "4                     26.04.2011                                  NOVA GORICA   \n",
       "\n",
       "  Starost uporabnika vozila Spol uporabnika  Upravna enota uporabnika vozila  \\\n",
       "0                      61.0               M                                2   \n",
       "1                      58.0               Z                               36   \n",
       "2                      71.0               M                               59   \n",
       "3                      64.0               M                               58   \n",
       "4                      63.0               Z                               37   \n",
       "\n",
       "          Znamka Drzava (koda)  Masa vozila Kategorija in vrsta vozila (opis)  \\\n",
       "0            BMW           DEU        223.0                      motorno kolo   \n",
       "1           FIAT           ITA       1270.0                  osebni avtomobil   \n",
       "2          HONDA           JPN        242.0                      motorno kolo   \n",
       "3     DEUTZ-FAHR           ITA       5200.0                           traktor   \n",
       "4  MERCEDES BENZ           DEU       1435.0                  osebni avtomobil   \n",
       "\n",
       "   Nazivna moc Vrsta goriva (opis) S.1-Stevilo sedezev (vkljucno z vozniskim)  \\\n",
       "0         80.0              Bencin                                        2.0   \n",
       "1         70.0              Bencin                                        5.0   \n",
       "2         37.0              Bencin                                        2.0   \n",
       "3         53.0               Dizel                                        1.0   \n",
       "4        103.0               Dizel                                        5.0   \n",
       "\n",
       "  T-Najvisja hitrost  V.8-Kombinirana poraba goriva  Leto izdelave  \n",
       "0              215.0                            NaN           2007  \n",
       "1              185.0                            7.7           2019  \n",
       "2              160.0                            NaN           2008  \n",
       "3               40.0                            NaN           2019  \n",
       "4              200.0                            5.3           2011  "
      ]
     },
     "execution_count": 397,
     "metadata": {},
     "output_type": "execute_result"
    }
   ],
   "source": [
    "df.head()"
   ]
  },
  {
   "cell_type": "markdown",
   "metadata": {},
   "source": [
    "#### 1.3.2) Preimenovanje imen stolpcev\n",
    "\n",
    "Preimenujte stolpce, da bo delo s podatki lažje. Preslikave imen stolpcev najdete v spodnji spremenljivki `new_names`.\n",
    "\n",
    "Operacijo opravite na mestu (inplace).\n",
    "\n",
    "`2 pts`"
   ]
  },
  {
   "cell_type": "code",
   "execution_count": 398,
   "metadata": {},
   "outputs": [],
   "source": [
    "new_names = {'Datum prve registracije vozila': 'Prva_registracija',\n",
    "             'Registrsko obmocje tablice prve registracije': 'Tablica_kraj',\n",
    "             'Starost uporabnika vozila': 'Starost_vozinka',\n",
    "             'Spol uporabnika': 'Spol_voznika',\n",
    "             'Upravna enota uporabnika vozila': 'Upravna_enota_sifra',\n",
    "             'Drzava (koda)': 'Država_proizvodnje',\n",
    "             'Masa vozila': 'Masa_vozila',\n",
    "             'Kategorija in vrsta vozila (opis)': 'Kategorija_vozila',\n",
    "             'Nazivna moc': 'Moc',\n",
    "             'Vrsta goriva (opis)': 'Gorivo',\n",
    "             'S.1-Stevilo sedezev (vkljucno z vozniskim)': 'Stevilo_sedezev',\n",
    "             'T-Najvisja hitrost': 'Hitrost_max',\n",
    "             'V.8-Kombinirana poraba goriva': 'Poraba_goriva',\n",
    "             'Leto izdelave': 'Leto_izdelave'\n",
    "}"
   ]
  },
  {
   "cell_type": "code",
   "execution_count": 399,
   "metadata": {},
   "outputs": [],
   "source": [
    "# Odgovor\n",
    "df.rename(columns=new_names, inplace=True)\n",
    "\n"
   ]
  },
  {
   "cell_type": "code",
   "execution_count": 400,
   "metadata": {},
   "outputs": [
    {
     "data": {
      "text/html": [
       "<div>\n",
       "<style scoped>\n",
       "    .dataframe tbody tr th:only-of-type {\n",
       "        vertical-align: middle;\n",
       "    }\n",
       "\n",
       "    .dataframe tbody tr th {\n",
       "        vertical-align: top;\n",
       "    }\n",
       "\n",
       "    .dataframe thead th {\n",
       "        text-align: right;\n",
       "    }\n",
       "</style>\n",
       "<table border=\"1\" class=\"dataframe\">\n",
       "  <thead>\n",
       "    <tr style=\"text-align: right;\">\n",
       "      <th></th>\n",
       "      <th>Prva_registracija</th>\n",
       "      <th>Tablica_kraj</th>\n",
       "      <th>Starost_vozinka</th>\n",
       "      <th>Spol_voznika</th>\n",
       "      <th>Upravna_enota_sifra</th>\n",
       "      <th>Znamka</th>\n",
       "      <th>Država_proizvodnje</th>\n",
       "      <th>Masa_vozila</th>\n",
       "      <th>Kategorija_vozila</th>\n",
       "      <th>Moc</th>\n",
       "      <th>Gorivo</th>\n",
       "      <th>Stevilo_sedezev</th>\n",
       "      <th>Hitrost_max</th>\n",
       "      <th>Poraba_goriva</th>\n",
       "      <th>Leto_izdelave</th>\n",
       "    </tr>\n",
       "  </thead>\n",
       "  <tbody>\n",
       "    <tr>\n",
       "      <th>0</th>\n",
       "      <td>24.10.2007</td>\n",
       "      <td>KR?KO</td>\n",
       "      <td>61.0</td>\n",
       "      <td>M</td>\n",
       "      <td>2</td>\n",
       "      <td>BMW</td>\n",
       "      <td>DEU</td>\n",
       "      <td>223.0</td>\n",
       "      <td>motorno kolo</td>\n",
       "      <td>80.0</td>\n",
       "      <td>Bencin</td>\n",
       "      <td>2.0</td>\n",
       "      <td>215.0</td>\n",
       "      <td>NaN</td>\n",
       "      <td>2007</td>\n",
       "    </tr>\n",
       "    <tr>\n",
       "      <th>1</th>\n",
       "      <td>25.03.2019</td>\n",
       "      <td>MURSKA SOBOTA</td>\n",
       "      <td>58.0</td>\n",
       "      <td>Z</td>\n",
       "      <td>36</td>\n",
       "      <td>FIAT</td>\n",
       "      <td>ITA</td>\n",
       "      <td>1270.0</td>\n",
       "      <td>osebni avtomobil</td>\n",
       "      <td>70.0</td>\n",
       "      <td>Bencin</td>\n",
       "      <td>5.0</td>\n",
       "      <td>185.0</td>\n",
       "      <td>7.7</td>\n",
       "      <td>2019</td>\n",
       "    </tr>\n",
       "    <tr>\n",
       "      <th>2</th>\n",
       "      <td>01.08.2008</td>\n",
       "      <td>CELJE</td>\n",
       "      <td>71.0</td>\n",
       "      <td>M</td>\n",
       "      <td>59</td>\n",
       "      <td>HONDA</td>\n",
       "      <td>JPN</td>\n",
       "      <td>242.0</td>\n",
       "      <td>motorno kolo</td>\n",
       "      <td>37.0</td>\n",
       "      <td>Bencin</td>\n",
       "      <td>2.0</td>\n",
       "      <td>160.0</td>\n",
       "      <td>NaN</td>\n",
       "      <td>2008</td>\n",
       "    </tr>\n",
       "    <tr>\n",
       "      <th>3</th>\n",
       "      <td>08.03.2019</td>\n",
       "      <td>KRANJ</td>\n",
       "      <td>64.0</td>\n",
       "      <td>M</td>\n",
       "      <td>58</td>\n",
       "      <td>DEUTZ-FAHR</td>\n",
       "      <td>ITA</td>\n",
       "      <td>5200.0</td>\n",
       "      <td>traktor</td>\n",
       "      <td>53.0</td>\n",
       "      <td>Dizel</td>\n",
       "      <td>1.0</td>\n",
       "      <td>40.0</td>\n",
       "      <td>NaN</td>\n",
       "      <td>2019</td>\n",
       "    </tr>\n",
       "    <tr>\n",
       "      <th>4</th>\n",
       "      <td>26.04.2011</td>\n",
       "      <td>NOVA GORICA</td>\n",
       "      <td>63.0</td>\n",
       "      <td>Z</td>\n",
       "      <td>37</td>\n",
       "      <td>MERCEDES BENZ</td>\n",
       "      <td>DEU</td>\n",
       "      <td>1435.0</td>\n",
       "      <td>osebni avtomobil</td>\n",
       "      <td>103.0</td>\n",
       "      <td>Dizel</td>\n",
       "      <td>5.0</td>\n",
       "      <td>200.0</td>\n",
       "      <td>5.3</td>\n",
       "      <td>2011</td>\n",
       "    </tr>\n",
       "  </tbody>\n",
       "</table>\n",
       "</div>"
      ],
      "text/plain": [
       "  Prva_registracija   Tablica_kraj Starost_vozinka Spol_voznika  \\\n",
       "0        24.10.2007          KR?KO            61.0            M   \n",
       "1        25.03.2019  MURSKA SOBOTA            58.0            Z   \n",
       "2        01.08.2008          CELJE            71.0            M   \n",
       "3        08.03.2019          KRANJ            64.0            M   \n",
       "4        26.04.2011    NOVA GORICA            63.0            Z   \n",
       "\n",
       "   Upravna_enota_sifra         Znamka Država_proizvodnje  Masa_vozila  \\\n",
       "0                    2            BMW                DEU        223.0   \n",
       "1                   36           FIAT                ITA       1270.0   \n",
       "2                   59          HONDA                JPN        242.0   \n",
       "3                   58     DEUTZ-FAHR                ITA       5200.0   \n",
       "4                   37  MERCEDES BENZ                DEU       1435.0   \n",
       "\n",
       "  Kategorija_vozila    Moc  Gorivo Stevilo_sedezev Hitrost_max  Poraba_goriva  \\\n",
       "0      motorno kolo   80.0  Bencin             2.0       215.0            NaN   \n",
       "1  osebni avtomobil   70.0  Bencin             5.0       185.0            7.7   \n",
       "2      motorno kolo   37.0  Bencin             2.0       160.0            NaN   \n",
       "3           traktor   53.0   Dizel             1.0        40.0            NaN   \n",
       "4  osebni avtomobil  103.0   Dizel             5.0       200.0            5.3   \n",
       "\n",
       "   Leto_izdelave  \n",
       "0           2007  \n",
       "1           2019  \n",
       "2           2008  \n",
       "3           2019  \n",
       "4           2011  "
      ]
     },
     "execution_count": 400,
     "metadata": {},
     "output_type": "execute_result"
    }
   ],
   "source": [
    "df.head()"
   ]
  },
  {
   "cell_type": "markdown",
   "metadata": {},
   "source": [
    "#### 1.3.3) Odstranjevenje mankajočih vrednosti\n",
    "\n",
    "Izpiši število mankajočih vrednosti za vsak stolpec v pandas Series obliki.\n",
    "\n",
    "Pričakovan odgovor:\n",
    "```\n",
    "Prva_registracija         0\n",
    "Tablica_kraj              0\n",
    "Starost_vozinka        6349\n",
    "Spol_voznika           6349\n",
    "Upravna_enota_sifra       0\n",
    "Znamka                    0\n",
    "Država_proizvodnje        0\n",
    "Masa_vozila               0\n",
    "...\n",
    "```\n",
    "\n",
    "`2 pts`"
   ]
  },
  {
   "cell_type": "code",
   "execution_count": 401,
   "metadata": {},
   "outputs": [
    {
     "data": {
      "text/plain": [
       "Prva_registracija         0\n",
       "Tablica_kraj              0\n",
       "Starost_vozinka        6349\n",
       "Spol_voznika           6349\n",
       "Upravna_enota_sifra       0\n",
       "Znamka                    0\n",
       "Država_proizvodnje        0\n",
       "Masa_vozila               0\n",
       "Kategorija_vozila         0\n",
       "Moc                       0\n",
       "Gorivo                    0\n",
       "Stevilo_sedezev         420\n",
       "Hitrost_max             305\n",
       "Poraba_goriva          2621\n",
       "Leto_izdelave             0\n",
       "dtype: int64"
      ]
     },
     "execution_count": 401,
     "metadata": {},
     "output_type": "execute_result"
    }
   ],
   "source": [
    "# Odgovor\n",
    "df.isnull().sum()\n",
    "\n"
   ]
  },
  {
   "cell_type": "markdown",
   "metadata": {},
   "source": [
    "---"
   ]
  },
  {
   "cell_type": "markdown",
   "metadata": {},
   "source": [
    "`2 pts`"
   ]
  },
  {
   "cell_type": "markdown",
   "metadata": {},
   "source": [
    "Odstrani vse vrstice v naših podatkih za katere ima stolpec `Starost_vozinka` manjkajoče vrednosti.\n",
    "\n",
    "Delo nadaljuj z novimi podatki."
   ]
  },
  {
   "cell_type": "code",
   "execution_count": 402,
   "metadata": {},
   "outputs": [],
   "source": [
    "# Odgovor\n",
    "df_bool = df['Starost_vozinka'].notnull()\n",
    "df = df[df_bool]\n",
    "\n"
   ]
  },
  {
   "cell_type": "markdown",
   "metadata": {},
   "source": [
    "---"
   ]
  },
  {
   "cell_type": "markdown",
   "metadata": {},
   "source": [
    "`2 pts`"
   ]
  },
  {
   "cell_type": "markdown",
   "metadata": {},
   "source": [
    "Vse manjkajoče vrednosti v stolpcu `Stevilo_sedezev` nadomesti z številom `0`.\n",
    "\n",
    "Delo nadaljuj z novimi podatki."
   ]
  },
  {
   "cell_type": "code",
   "execution_count": 403,
   "metadata": {},
   "outputs": [],
   "source": [
    "# Odgovor\n",
    "df['Stevilo_sedezev'].replace(np.nan, 0, inplace=True)\n",
    "\n"
   ]
  },
  {
   "cell_type": "markdown",
   "metadata": {},
   "source": [
    "#### 1.3.4) Iskanje podvojenih vrstic v podatkih"
   ]
  },
  {
   "cell_type": "markdown",
   "metadata": {},
   "source": [
    "Poišči število podvojenih vrstic v naših podatkih.\n",
    "\n",
    "`1 pts`"
   ]
  },
  {
   "cell_type": "code",
   "execution_count": 404,
   "metadata": {},
   "outputs": [
    {
     "data": {
      "text/plain": [
       "2"
      ]
     },
     "execution_count": 404,
     "metadata": {},
     "output_type": "execute_result"
    }
   ],
   "source": [
    "# Odgovor\n",
    "\n",
    "df.duplicated().sum()\n"
   ]
  },
  {
   "cell_type": "markdown",
   "metadata": {},
   "source": [
    "---"
   ]
  },
  {
   "cell_type": "markdown",
   "metadata": {},
   "source": [
    "`1 pts`"
   ]
  },
  {
   "cell_type": "markdown",
   "metadata": {},
   "source": [
    "Odstrani vse podvojene vrstice iz naših podatkov."
   ]
  },
  {
   "cell_type": "code",
   "execution_count": 405,
   "metadata": {},
   "outputs": [],
   "source": [
    "# Odgovor\n",
    "\n",
    "df.drop_duplicates(inplace=True)"
   ]
  },
  {
   "cell_type": "markdown",
   "metadata": {},
   "source": [
    "#### 1.3.5) Transformiranje podatkov"
   ]
  },
  {
   "cell_type": "markdown",
   "metadata": {},
   "source": [
    "Stolpec `Upravna_enota_sifra` vsebuje šifre upravnih enot. Spodaj je podan slovar, ki preslika šifro upravne enote v njeno ime. Dodajte stolpec `Upravna_enota` v katerem so preslikana imena upravnih enot.\n",
    "\n",
    "Nadaljujte delo z novimi podatki.\n",
    "\n",
    "Namig: Uporabite pandas metodo .map()\n",
    "\n",
    "`2 pts`"
   ]
  },
  {
   "cell_type": "code",
   "execution_count": 406,
   "metadata": {},
   "outputs": [],
   "source": [
    "sifra_to_ime = {0: \"Neznana\",\n",
    "              1: \"AJDOVŠČINA\",\n",
    "              2: \"BREŽICE\",\n",
    "              3: \"CELJE\",\n",
    "              4: \"CERKNICA\",\n",
    "              5: \"ČRNOMELJ\",\n",
    "              6: \"DOMŽALE\",\n",
    "              7: \"DRAVOGRAD\",\n",
    "              8: \"GORNJA RADGONA\",\n",
    "              9: \"GROSUPLJE\",\n",
    "              10: \"HRASTNIK\",\n",
    "              11: \"IDRIJA\",\n",
    "              12: \"ILIRSKA BISTRICA\",\n",
    "              13: \"IZOLA\",\n",
    "              14: \"JESENICE\",\n",
    "              15: \"KAMNIK\",\n",
    "              16: \"KOČEVJE\",\n",
    "              17: \"KOPER\",\n",
    "              18: \"KRANJ\",\n",
    "              19: \"KRŠKO\",\n",
    "              20: \"LAŠKO\",\n",
    "              21: \"LENART\",\n",
    "              22: \"LENDAVA\",\n",
    "              23: \"LITIJA\",\n",
    "              24: \"LJUBLJANA\",\n",
    "              29: \"LJUTOMER\",\n",
    "              30: \"LOGATEC\",\n",
    "              34: \"METLIKA\",\n",
    "              35: \"MOZIRJE\",\n",
    "              36: \"MURSKA SOBOTA\",\n",
    "              37: \"NOVA GORICA\",\n",
    "              38: \"NOVO MESTO\",\n",
    "              39: \"ORMOŽ\",\n",
    "              40: \"PIRAN\",\n",
    "              41: \"POSTOJNA\",\n",
    "              42: \"PTUJ\",\n",
    "              43: \"RADLJE OB DRAVI\",\n",
    "              44: \"RADOVLJICA\",\n",
    "              45: \"RAVNE NA KOROŠKEM\",\n",
    "              46: \"RIBNICA\",\n",
    "              47: \"SEVNICA\",\n",
    "              48: \"SEŽANA\",\n",
    "              49: \"SLOVENJ GRADEC\",\n",
    "              50: \"SLOVENSKA BISTRICA\",\n",
    "              51: \"SLOVENSKE KONJICE\",\n",
    "              52: \"ŠENTJUR PRI CELJU\",\n",
    "              53: \"ŠKOFJA LOKA\",\n",
    "              54: \"ŠMARJE PRI JELŠAH\",\n",
    "              55: \"TOLMIN\",\n",
    "              56: \"TRBOVLJE\",\n",
    "              57: \"TREBNJE\",\n",
    "              58: \"TRŽIČ\",\n",
    "              59: \"VELENJE\",\n",
    "              60: \"VRHNIKA\",\n",
    "              61: \"ZAGORJE OB SAVI\",\n",
    "              62: \"ŽALEC\",\n",
    "              64: \"MARIBOR\",\n",
    "              65: \"PESNICA\",\n",
    "              68: \"RUŠE\"}"
   ]
  },
  {
   "cell_type": "code",
   "execution_count": 407,
   "metadata": {},
   "outputs": [],
   "source": [
    "# Odgovor\n",
    "df['Upravna_enota'] = df['Upravna_enota_sifra'].map(sifra_to_ime)\n",
    "\n"
   ]
  },
  {
   "cell_type": "markdown",
   "metadata": {},
   "source": [
    "#### 1.3.6) Sprememba podatkovnih tipov"
   ]
  },
  {
   "cell_type": "markdown",
   "metadata": {},
   "source": [
    "Pretvori stolpec `Prva_registracija` v podatkovni tip `datetime64[ns]`.\n",
    "\n",
    "\n",
    "Nadaljujte delo z novimi podatki.\n",
    "\n",
    "`2 pts`"
   ]
  },
  {
   "cell_type": "code",
   "execution_count": 408,
   "metadata": {},
   "outputs": [],
   "source": [
    "# Odgovor\n",
    "df['Prva_registracija'] = pd.to_datetime(df['Prva_registracija'])\n"
   ]
  },
  {
   "cell_type": "markdown",
   "metadata": {},
   "source": [
    "---"
   ]
  },
  {
   "cell_type": "markdown",
   "metadata": {},
   "source": [
    "Pretvori naslednje stolpce v naslednje podatkovne tipe:\n",
    "- `Starost_vozinka` -> `int64`\n",
    "- `Masa_vozila` -> `float64` (pozor na decimalno vejico namesto decimalne pike)\n",
    "- `Moc` -> `float64` (pozor na decimalno vejico namesto decimalne pike)\n",
    "- `Stevilo_sedezev` -> `int64`\n",
    "\n",
    "Na koncu želimo imeti podatke takšne oblike: \n",
    "```\n",
    "Prva_registracija      8298 non-null datetime64[ns]\n",
    "Tablica_kraj           8298 non-null object\n",
    "Starost_vozinka        8298 non-null int64\n",
    "Spol_voznika           8298 non-null object\n",
    "Upravna_enota_sifra    8298 non-null int64\n",
    "Znamka                 8298 non-null object\n",
    "Država_proizvodnje     8298 non-null object\n",
    "Masa_vozila            8298 non-null float64\n",
    "Kategorija_vozila      8298 non-null object\n",
    "Moc                    8298 non-null float64\n",
    "Gorivo                 8298 non-null object\n",
    "Stevilo_sedezev        8298 non-null int64\n",
    "Hitrost_max            8194 non-null float64\n",
    "Poraba_goriva          6812 non-null object\n",
    "Leto_izdelave          8298 non-null int64\n",
    "Upravna_enota          8298 non-null object\n",
    "```\n"
   ]
  },
  {
   "cell_type": "markdown",
   "metadata": {},
   "source": [
    "`4 pts`"
   ]
  },
  {
   "cell_type": "code",
   "execution_count": 409,
   "metadata": {},
   "outputs": [],
   "source": [
    "# Odgovor\n",
    "df['Starost_vozinka'] = df['Starost_vozinka'].astype('float64').astype('int64')\n",
    "df['Masa_vozila'] = pd.to_numeric(df['Masa_vozila']).astype('float64')\n",
    "df['Moc'] = df['Moc'].astype('float64')\n",
    "df['Stevilo_sedezev'] = df['Stevilo_sedezev'].astype('float64').astype('int64')\n"
   ]
  },
  {
   "cell_type": "code",
   "execution_count": 410,
   "metadata": {},
   "outputs": [
    {
     "data": {
      "text/plain": [
       "Prva_registracija      datetime64[ns]\n",
       "Tablica_kraj                   object\n",
       "Starost_vozinka                 int64\n",
       "Spol_voznika                   object\n",
       "Upravna_enota_sifra             int64\n",
       "Znamka                         object\n",
       "Država_proizvodnje             object\n",
       "Masa_vozila                   float64\n",
       "Kategorija_vozila              object\n",
       "Moc                           float64\n",
       "Gorivo                         object\n",
       "Stevilo_sedezev                 int64\n",
       "Hitrost_max                    object\n",
       "Poraba_goriva                 float64\n",
       "Leto_izdelave                   int64\n",
       "Upravna_enota                  object\n",
       "dtype: object"
      ]
     },
     "execution_count": 410,
     "metadata": {},
     "output_type": "execute_result"
    }
   ],
   "source": [
    "# Odgovor\n",
    "df.dtypes\n"
   ]
  },
  {
   "cell_type": "markdown",
   "metadata": {},
   "source": [
    "#### 1.3.7) Sprememba vrednsoti v določenih celicah"
   ]
  },
  {
   "cell_type": "markdown",
   "metadata": {},
   "source": [
    "- V stolpcu `Tablica_kraj` imamo vrednost `KR?KO`. Kot zgleda podatek ni bil pravilno vnešen. Spremenite vse vrednosti `KR?KO` v `KRSKO`.\n",
    "\n",
    "- V stolpcu `Znamka` imamo vrednost `?KODA`. Kot zgleda podatek ni bil pravilno vnešen. Spremenite vse vrednosti `?KODA` v `SKODA`.\n",
    "\n",
    "`2 pts`"
   ]
  },
  {
   "cell_type": "code",
   "execution_count": 411,
   "metadata": {},
   "outputs": [],
   "source": [
    "# Odgovor\n",
    "df['Tablica_kraj'].replace('KR?KO','KRSKO',inplace=True)\n",
    "df['Znamka'].replace('?KODA','SKODA',inplace=True)\n",
    "\n"
   ]
  },
  {
   "cell_type": "markdown",
   "metadata": {},
   "source": [
    "### 1.4) Izvoz urejenih podatkov"
   ]
  },
  {
   "cell_type": "markdown",
   "metadata": {},
   "source": [
    "Pripravljene in urejene podatke izvozite v novo csv datoteko z imenom `DATA_vozila_CLEAN`. Za pot lahko uporabite pripravljano spremenljivko `path`. Za separator uporabite `,`. Indexa **ne** izvozite s podatki.\n",
    "\n",
    "`1 pts`"
   ]
  },
  {
   "cell_type": "code",
   "execution_count": 412,
   "metadata": {},
   "outputs": [],
   "source": [
    "path = 'data/DATA_vozila_CLEAN.csv'"
   ]
  },
  {
   "cell_type": "code",
   "execution_count": 413,
   "metadata": {},
   "outputs": [],
   "source": [
    "# Odgovor\n",
    "df.to_csv(path)\n",
    "\n"
   ]
  },
  {
   "cell_type": "markdown",
   "metadata": {},
   "source": [
    "## DEL 2 - Analiza (40 pts)"
   ]
  },
  {
   "cell_type": "markdown",
   "metadata": {},
   "source": [
    "V tem delu sledi analiza urejenih podatkov."
   ]
  },
  {
   "cell_type": "markdown",
   "metadata": {},
   "source": [
    "V primeru, da vam ni uspelo urediti podatkov v prejšnjem delu, si jih lahko naložite v pomočjo spodnje celice."
   ]
  },
  {
   "cell_type": "code",
   "execution_count": 414,
   "metadata": {},
   "outputs": [],
   "source": [
    "# Naložimo urejene podatke\n",
    "df = pd.read_csv('data/DATA_vozila_CLEAN.csv')"
   ]
  },
  {
   "cell_type": "code",
   "execution_count": 415,
   "metadata": {
    "scrolled": true
   },
   "outputs": [
    {
     "data": {
      "text/html": [
       "<div>\n",
       "<style scoped>\n",
       "    .dataframe tbody tr th:only-of-type {\n",
       "        vertical-align: middle;\n",
       "    }\n",
       "\n",
       "    .dataframe tbody tr th {\n",
       "        vertical-align: top;\n",
       "    }\n",
       "\n",
       "    .dataframe thead th {\n",
       "        text-align: right;\n",
       "    }\n",
       "</style>\n",
       "<table border=\"1\" class=\"dataframe\">\n",
       "  <thead>\n",
       "    <tr style=\"text-align: right;\">\n",
       "      <th></th>\n",
       "      <th>Prva_registracija</th>\n",
       "      <th>Tablica_kraj</th>\n",
       "      <th>Starost_vozinka</th>\n",
       "      <th>Spol_voznika</th>\n",
       "      <th>Upravna_enota_sifra</th>\n",
       "      <th>Znamka</th>\n",
       "      <th>Država_proizvodnje</th>\n",
       "      <th>Masa_vozila</th>\n",
       "      <th>Kategorija_vozila</th>\n",
       "      <th>Moc</th>\n",
       "      <th>Gorivo</th>\n",
       "      <th>Stevilo_sedezev</th>\n",
       "      <th>Hitrost_max</th>\n",
       "      <th>Poraba_goriva</th>\n",
       "      <th>Leto_izdelave</th>\n",
       "      <th>Upravna_enota</th>\n",
       "    </tr>\n",
       "  </thead>\n",
       "  <tbody>\n",
       "    <tr>\n",
       "      <th>0</th>\n",
       "      <td>2007-10-24</td>\n",
       "      <td>KRSKO</td>\n",
       "      <td>61</td>\n",
       "      <td>M</td>\n",
       "      <td>2</td>\n",
       "      <td>BMW</td>\n",
       "      <td>DEU</td>\n",
       "      <td>223.0</td>\n",
       "      <td>motorno kolo</td>\n",
       "      <td>80.0</td>\n",
       "      <td>Bencin</td>\n",
       "      <td>2</td>\n",
       "      <td>215.0</td>\n",
       "      <td>NaN</td>\n",
       "      <td>2007</td>\n",
       "      <td>BREŽICE</td>\n",
       "    </tr>\n",
       "    <tr>\n",
       "      <th>1</th>\n",
       "      <td>2019-03-25</td>\n",
       "      <td>MURSKA SOBOTA</td>\n",
       "      <td>58</td>\n",
       "      <td>Z</td>\n",
       "      <td>36</td>\n",
       "      <td>FIAT</td>\n",
       "      <td>ITA</td>\n",
       "      <td>1270.0</td>\n",
       "      <td>osebni avtomobil</td>\n",
       "      <td>70.0</td>\n",
       "      <td>Bencin</td>\n",
       "      <td>5</td>\n",
       "      <td>185.0</td>\n",
       "      <td>7.7</td>\n",
       "      <td>2019</td>\n",
       "      <td>MURSKA SOBOTA</td>\n",
       "    </tr>\n",
       "    <tr>\n",
       "      <th>2</th>\n",
       "      <td>2008-01-08</td>\n",
       "      <td>CELJE</td>\n",
       "      <td>71</td>\n",
       "      <td>M</td>\n",
       "      <td>59</td>\n",
       "      <td>HONDA</td>\n",
       "      <td>JPN</td>\n",
       "      <td>242.0</td>\n",
       "      <td>motorno kolo</td>\n",
       "      <td>37.0</td>\n",
       "      <td>Bencin</td>\n",
       "      <td>2</td>\n",
       "      <td>160.0</td>\n",
       "      <td>NaN</td>\n",
       "      <td>2008</td>\n",
       "      <td>VELENJE</td>\n",
       "    </tr>\n",
       "    <tr>\n",
       "      <th>3</th>\n",
       "      <td>2019-08-03</td>\n",
       "      <td>KRANJ</td>\n",
       "      <td>64</td>\n",
       "      <td>M</td>\n",
       "      <td>58</td>\n",
       "      <td>DEUTZ-FAHR</td>\n",
       "      <td>ITA</td>\n",
       "      <td>5200.0</td>\n",
       "      <td>traktor</td>\n",
       "      <td>53.0</td>\n",
       "      <td>Dizel</td>\n",
       "      <td>1</td>\n",
       "      <td>40.0</td>\n",
       "      <td>NaN</td>\n",
       "      <td>2019</td>\n",
       "      <td>TRŽIČ</td>\n",
       "    </tr>\n",
       "    <tr>\n",
       "      <th>4</th>\n",
       "      <td>2011-04-26</td>\n",
       "      <td>NOVA GORICA</td>\n",
       "      <td>63</td>\n",
       "      <td>Z</td>\n",
       "      <td>37</td>\n",
       "      <td>MERCEDES BENZ</td>\n",
       "      <td>DEU</td>\n",
       "      <td>1435.0</td>\n",
       "      <td>osebni avtomobil</td>\n",
       "      <td>103.0</td>\n",
       "      <td>Dizel</td>\n",
       "      <td>5</td>\n",
       "      <td>200.0</td>\n",
       "      <td>5.3</td>\n",
       "      <td>2011</td>\n",
       "      <td>NOVA GORICA</td>\n",
       "    </tr>\n",
       "  </tbody>\n",
       "</table>\n",
       "</div>"
      ],
      "text/plain": [
       "  Prva_registracija   Tablica_kraj  Starost_vozinka Spol_voznika  \\\n",
       "0        2007-10-24          KRSKO               61            M   \n",
       "1        2019-03-25  MURSKA SOBOTA               58            Z   \n",
       "2        2008-01-08          CELJE               71            M   \n",
       "3        2019-08-03          KRANJ               64            M   \n",
       "4        2011-04-26    NOVA GORICA               63            Z   \n",
       "\n",
       "   Upravna_enota_sifra         Znamka Država_proizvodnje  Masa_vozila  \\\n",
       "0                    2            BMW                DEU        223.0   \n",
       "1                   36           FIAT                ITA       1270.0   \n",
       "2                   59          HONDA                JPN        242.0   \n",
       "3                   58     DEUTZ-FAHR                ITA       5200.0   \n",
       "4                   37  MERCEDES BENZ                DEU       1435.0   \n",
       "\n",
       "  Kategorija_vozila    Moc  Gorivo  Stevilo_sedezev  Hitrost_max  \\\n",
       "0      motorno kolo   80.0  Bencin                2        215.0   \n",
       "1  osebni avtomobil   70.0  Bencin                5        185.0   \n",
       "2      motorno kolo   37.0  Bencin                2        160.0   \n",
       "3           traktor   53.0   Dizel                1         40.0   \n",
       "4  osebni avtomobil  103.0   Dizel                5        200.0   \n",
       "\n",
       "   Poraba_goriva  Leto_izdelave  Upravna_enota  \n",
       "0            NaN           2007        BREŽICE  \n",
       "1            7.7           2019  MURSKA SOBOTA  \n",
       "2            NaN           2008        VELENJE  \n",
       "3            NaN           2019          TRŽIČ  \n",
       "4            5.3           2011    NOVA GORICA  "
      ]
     },
     "execution_count": 415,
     "metadata": {},
     "output_type": "execute_result"
    }
   ],
   "source": [
    "df.drop('Unnamed: 0', axis=1, inplace=True)\n",
    "df.head()"
   ]
  },
  {
   "cell_type": "markdown",
   "metadata": {},
   "source": [
    "Prikažite glavne statistične lastnosti za numerične stolpce z uporabo ene metode.\n",
    "\n",
    "`1 pts`"
   ]
  },
  {
   "cell_type": "code",
   "execution_count": 416,
   "metadata": {},
   "outputs": [
    {
     "data": {
      "text/html": [
       "<div>\n",
       "<style scoped>\n",
       "    .dataframe tbody tr th:only-of-type {\n",
       "        vertical-align: middle;\n",
       "    }\n",
       "\n",
       "    .dataframe tbody tr th {\n",
       "        vertical-align: top;\n",
       "    }\n",
       "\n",
       "    .dataframe thead th {\n",
       "        text-align: right;\n",
       "    }\n",
       "</style>\n",
       "<table border=\"1\" class=\"dataframe\">\n",
       "  <thead>\n",
       "    <tr style=\"text-align: right;\">\n",
       "      <th></th>\n",
       "      <th>Starost_vozinka</th>\n",
       "      <th>Upravna_enota_sifra</th>\n",
       "      <th>Masa_vozila</th>\n",
       "      <th>Moc</th>\n",
       "      <th>Stevilo_sedezev</th>\n",
       "      <th>Hitrost_max</th>\n",
       "      <th>Poraba_goriva</th>\n",
       "      <th>Leto_izdelave</th>\n",
       "    </tr>\n",
       "  </thead>\n",
       "  <tbody>\n",
       "    <tr>\n",
       "      <th>count</th>\n",
       "      <td>8298.000000</td>\n",
       "      <td>8298.000000</td>\n",
       "      <td>8298.000000</td>\n",
       "      <td>8298.000000</td>\n",
       "      <td>8298.000000</td>\n",
       "      <td>8194.000000</td>\n",
       "      <td>6812.000000</td>\n",
       "      <td>8298.000000</td>\n",
       "    </tr>\n",
       "    <tr>\n",
       "      <th>mean</th>\n",
       "      <td>47.317064</td>\n",
       "      <td>33.843336</td>\n",
       "      <td>1370.489998</td>\n",
       "      <td>84.245286</td>\n",
       "      <td>4.325621</td>\n",
       "      <td>176.548816</td>\n",
       "      <td>5.471284</td>\n",
       "      <td>2016.210292</td>\n",
       "    </tr>\n",
       "    <tr>\n",
       "      <th>std</th>\n",
       "      <td>13.925337</td>\n",
       "      <td>19.466657</td>\n",
       "      <td>844.165908</td>\n",
       "      <td>39.814417</td>\n",
       "      <td>1.470540</td>\n",
       "      <td>52.921735</td>\n",
       "      <td>3.877463</td>\n",
       "      <td>5.312939</td>\n",
       "    </tr>\n",
       "    <tr>\n",
       "      <th>min</th>\n",
       "      <td>13.000000</td>\n",
       "      <td>0.000000</td>\n",
       "      <td>37.000000</td>\n",
       "      <td>-1.000000</td>\n",
       "      <td>0.000000</td>\n",
       "      <td>0.000000</td>\n",
       "      <td>0.000000</td>\n",
       "      <td>1952.000000</td>\n",
       "    </tr>\n",
       "    <tr>\n",
       "      <th>25%</th>\n",
       "      <td>37.000000</td>\n",
       "      <td>18.000000</td>\n",
       "      <td>1160.000000</td>\n",
       "      <td>66.000000</td>\n",
       "      <td>5.000000</td>\n",
       "      <td>171.000000</td>\n",
       "      <td>4.500000</td>\n",
       "      <td>2015.000000</td>\n",
       "    </tr>\n",
       "    <tr>\n",
       "      <th>50%</th>\n",
       "      <td>47.000000</td>\n",
       "      <td>36.000000</td>\n",
       "      <td>1394.000000</td>\n",
       "      <td>85.000000</td>\n",
       "      <td>5.000000</td>\n",
       "      <td>189.000000</td>\n",
       "      <td>5.500000</td>\n",
       "      <td>2019.000000</td>\n",
       "    </tr>\n",
       "    <tr>\n",
       "      <th>75%</th>\n",
       "      <td>57.000000</td>\n",
       "      <td>51.000000</td>\n",
       "      <td>1591.000000</td>\n",
       "      <td>110.000000</td>\n",
       "      <td>5.000000</td>\n",
       "      <td>206.000000</td>\n",
       "      <td>6.200000</td>\n",
       "      <td>2019.000000</td>\n",
       "    </tr>\n",
       "    <tr>\n",
       "      <th>max</th>\n",
       "      <td>98.000000</td>\n",
       "      <td>68.000000</td>\n",
       "      <td>17650.000000</td>\n",
       "      <td>445.000000</td>\n",
       "      <td>9.000000</td>\n",
       "      <td>305.000000</td>\n",
       "      <td>217.000000</td>\n",
       "      <td>2019.000000</td>\n",
       "    </tr>\n",
       "  </tbody>\n",
       "</table>\n",
       "</div>"
      ],
      "text/plain": [
       "       Starost_vozinka  Upravna_enota_sifra   Masa_vozila          Moc  \\\n",
       "count      8298.000000          8298.000000   8298.000000  8298.000000   \n",
       "mean         47.317064            33.843336   1370.489998    84.245286   \n",
       "std          13.925337            19.466657    844.165908    39.814417   \n",
       "min          13.000000             0.000000     37.000000    -1.000000   \n",
       "25%          37.000000            18.000000   1160.000000    66.000000   \n",
       "50%          47.000000            36.000000   1394.000000    85.000000   \n",
       "75%          57.000000            51.000000   1591.000000   110.000000   \n",
       "max          98.000000            68.000000  17650.000000   445.000000   \n",
       "\n",
       "       Stevilo_sedezev  Hitrost_max  Poraba_goriva  Leto_izdelave  \n",
       "count      8298.000000  8194.000000    6812.000000    8298.000000  \n",
       "mean          4.325621   176.548816       5.471284    2016.210292  \n",
       "std           1.470540    52.921735       3.877463       5.312939  \n",
       "min           0.000000     0.000000       0.000000    1952.000000  \n",
       "25%           5.000000   171.000000       4.500000    2015.000000  \n",
       "50%           5.000000   189.000000       5.500000    2019.000000  \n",
       "75%           5.000000   206.000000       6.200000    2019.000000  \n",
       "max           9.000000   305.000000     217.000000    2019.000000  "
      ]
     },
     "execution_count": 416,
     "metadata": {},
     "output_type": "execute_result"
    }
   ],
   "source": [
    "# Odgovor\n",
    "df.describe()\n"
   ]
  },
  {
   "cell_type": "markdown",
   "metadata": {},
   "source": [
    "### 2.1) Analiza - Znamke vozil `6 pts`"
   ]
  },
  {
   "cell_type": "markdown",
   "metadata": {},
   "source": [
    "Analizirajte stolpec `Znamka`.\n",
    "\n",
    "Izpišite število registriranih števil po znamkah.\n",
    "\n",
    "`1 pts`"
   ]
  },
  {
   "cell_type": "code",
   "execution_count": 417,
   "metadata": {},
   "outputs": [
    {
     "data": {
      "text/plain": [
       "Znamka\n",
       "?TORE                 1\n",
       "ADRIA                21\n",
       "AEBI                  1\n",
       "AGROMEHANIKA          2\n",
       "AGT                   3\n",
       "AIXAM                 2\n",
       "ALFA ROMEO           14\n",
       "ANSSEMS               1\n",
       "ANTONIO CARRARO      25\n",
       "APRILIA              22\n",
       "ARBOS                 1\n",
       "ARIEL                 1\n",
       "ARMATRAC              2\n",
       "ATEC                  3\n",
       "AUDI                440\n",
       "BAOTIAN               7\n",
       "BCS                   1\n",
       "BELARUS               1\n",
       "BENIMAR               2\n",
       "BETA                  3\n",
       "BLOMERT               1\n",
       "BLUBEAGLE             4\n",
       "BMW                 524\n",
       "BMW I                 6\n",
       "BOECKMANN             2\n",
       "BRANTNER             11\n",
       "BRIXTON               1\n",
       "BRP                   5\n",
       "BUERSTNER GMBH        1\n",
       "BUICK                 1\n",
       "                   ... \n",
       "TOMOS               137\n",
       "TORI                  3\n",
       "TORPEDO               4\n",
       "TOURNE MOBIL          2\n",
       "TOYOTA              183\n",
       "TPV                   6\n",
       "TRIGANO               1\n",
       "TRIUMPH              14\n",
       "UNSINN                3\n",
       "URSUS                 3\n",
       "UTB                   3\n",
       "VALPADANA             1\n",
       "VALTRA                2\n",
       "VELOCIFERO            1\n",
       "VIJF STERREN          1\n",
       "VOLKSWAGEN         1132\n",
       "VOLVO               177\n",
       "WEINSBERG             7\n",
       "WESTFALIA             1\n",
       "WILK                  1\n",
       "WOEZ                  4\n",
       "WORMANN               1\n",
       "YAMAHA              135\n",
       "YIYING                1\n",
       "YORK                  1\n",
       "YTO                   1\n",
       "ZETOR                11\n",
       "ZMAJ                  1\n",
       "ZNEN                 33\n",
       "ZOOMLION              1\n",
       "Name: Prva_registracija, Length: 230, dtype: int64"
      ]
     },
     "execution_count": 417,
     "metadata": {},
     "output_type": "execute_result"
    }
   ],
   "source": [
    "# Odgovor\n",
    "df.groupby('Znamka').count().iloc[:,0]\n"
   ]
  },
  {
   "cell_type": "markdown",
   "metadata": {},
   "source": [
    "Prvih 10 vrednosti (10 najbolj pogostih znamk in število registaciiji) zgornjega izračuna shranite v spremenljivko `znamke_top_10`.\n",
    "\n",
    "`2 pts`"
   ]
  },
  {
   "cell_type": "code",
   "execution_count": 418,
   "metadata": {},
   "outputs": [],
   "source": [
    "# Odgovor\n",
    "znamke_top_10 = df.groupby('Znamka').count().iloc[:,0].sort_values(ascending=False).head(10)\n"
   ]
  },
  {
   "cell_type": "markdown",
   "metadata": {},
   "source": [
    "Izrišite graf števil registraciji v odvisnosti od znamk (za `znamke_top_10` Series). \n",
    "\n",
    "Uporabite funkcijo plot v knjižnjici pandas. Graf naj bo tipa `bar` z naslovom `Pogostost znamk vozil`\n",
    "\n",
    "`3 pts`"
   ]
  },
  {
   "cell_type": "code",
   "execution_count": 419,
   "metadata": {},
   "outputs": [
    {
     "data": {
      "text/plain": [
       "<function matplotlib.pyplot.show(*args, **kw)>"
      ]
     },
     "execution_count": 419,
     "metadata": {},
     "output_type": "execute_result"
    },
    {
     "data": {
      "image/png": "[encoded data removed]",
      "text/plain": [
       "<Figure size 1120x400 with 1 Axes>"
      ]
     },
     "metadata": {
      "needs_background": "light"
     },
     "output_type": "display_data"
    }
   ],
   "source": [
    "# Odgovor\n",
    "plt.figure(figsize=(14,5), dpi=80)\n",
    "plt.bar(znamke_top_10.index, znamke_top_10)\n",
    "plt.title('Pogostost znamk vozil')\n",
    "plt.show\n"
   ]
  },
  {
   "cell_type": "markdown",
   "metadata": {},
   "source": [
    "### 2.2) Analiza - Maksimalna hitrost vozila v primerjavi s spoloma `4 pts`"
   ]
  },
  {
   "cell_type": "markdown",
   "metadata": {},
   "source": [
    "Izdelejte nov dataframe z imenom `df_osebna_spol`, v katerem shranite samo vrstice, ki predstavljajo osebna vozila (stolpec `Kategorija_vozila` -> vrednost `osebni avtomobil`).\n",
    "\n",
    "`1 pts`"
   ]
  },
  {
   "cell_type": "code",
   "execution_count": 420,
   "metadata": {},
   "outputs": [],
   "source": [
    "# Odgovor\n",
    "\n",
    "df_osebna_spol = df[df['Kategorija_vozila'] == 'osebni avtomobil']"
   ]
  },
  {
   "cell_type": "markdown",
   "metadata": {},
   "source": [
    "V `df_osebna_spol` shranite samo stolpca `Spol_voznika` in `Hitrost_max`. z uporabo `loc metode`.\n",
    "\n",
    "`1 pts`"
   ]
  },
  {
   "cell_type": "code",
   "execution_count": 421,
   "metadata": {},
   "outputs": [],
   "source": [
    "# Odgovor\n",
    "df_osebna_spol = df.loc[:,['Spol_voznika','Hitrost_max']]\n"
   ]
  },
  {
   "cell_type": "markdown",
   "metadata": {},
   "source": [
    "Izračunajte povprečno maksimalno hitrost (stolpec `Hitrost_max`) za vsakega izmed spolov.\n",
    "\n",
    "`2 pts`"
   ]
  },
  {
   "cell_type": "code",
   "execution_count": 422,
   "metadata": {},
   "outputs": [
    {
     "data": {
      "text/html": [
       "<div>\n",
       "<style scoped>\n",
       "    .dataframe tbody tr th:only-of-type {\n",
       "        vertical-align: middle;\n",
       "    }\n",
       "\n",
       "    .dataframe tbody tr th {\n",
       "        vertical-align: top;\n",
       "    }\n",
       "\n",
       "    .dataframe thead th {\n",
       "        text-align: right;\n",
       "    }\n",
       "</style>\n",
       "<table border=\"1\" class=\"dataframe\">\n",
       "  <thead>\n",
       "    <tr style=\"text-align: right;\">\n",
       "      <th></th>\n",
       "      <th>Hitrost_max</th>\n",
       "    </tr>\n",
       "    <tr>\n",
       "      <th>Spol_voznika</th>\n",
       "      <th></th>\n",
       "    </tr>\n",
       "  </thead>\n",
       "  <tbody>\n",
       "    <tr>\n",
       "      <th>M</th>\n",
       "      <td>173.925933</td>\n",
       "    </tr>\n",
       "    <tr>\n",
       "      <th>Z</th>\n",
       "      <td>182.220764</td>\n",
       "    </tr>\n",
       "  </tbody>\n",
       "</table>\n",
       "</div>"
      ],
      "text/plain": [
       "              Hitrost_max\n",
       "Spol_voznika             \n",
       "M              173.925933\n",
       "Z              182.220764"
      ]
     },
     "execution_count": 422,
     "metadata": {},
     "output_type": "execute_result"
    }
   ],
   "source": [
    "# Odgovor\n",
    "df_osebna_spol.groupby('Spol_voznika').mean()\n"
   ]
  },
  {
   "cell_type": "markdown",
   "metadata": {},
   "source": [
    "### 2.3) Analiza - Primerjava moči vozil po regijah `6 pts`"
   ]
  },
  {
   "cell_type": "markdown",
   "metadata": {},
   "source": [
    "Izdelejte nov dataframe z imenom `df_osebna_2000_naprej`, v katerem shranite samo vrstice, ki predstavljajo osebna vozila (stolpec `Kategorija_vozila` -> vrednost `osebni avtomobil`), ki so bila izdelana po letu 2000 (vključno z letom 2000, stolpec `Leto_izdelave` >= 2000).\n",
    "\n",
    "`2 pts`"
   ]
  },
  {
   "cell_type": "code",
   "execution_count": 423,
   "metadata": {},
   "outputs": [],
   "source": [
    "# Odgovor\n",
    "df_osebna_bool = (df['Kategorija_vozila'] == 'osebni avtomobil')&(df['Leto_izdelave']>= 2000)\n",
    "df_osebna_2000_naprej = df[df_osebna_bool]\n",
    "\n"
   ]
  },
  {
   "cell_type": "markdown",
   "metadata": {},
   "source": [
    "Dobljen dataframe grupirajte po stolpcu `Tablica_kraj` in izračunjte povprečno vrednost za stolpec `Moc`. Dobljen Series poimenujte `moc_povprecna`.\n",
    "\n",
    "`2 pts`"
   ]
  },
  {
   "cell_type": "code",
   "execution_count": 424,
   "metadata": {},
   "outputs": [],
   "source": [
    "# Odgovor\n",
    "moc_povprecna = df_osebna_2000_naprej.groupby('Tablica_kraj')['Moc'].mean()\n"
   ]
  },
  {
   "cell_type": "markdown",
   "metadata": {},
   "source": [
    "V grafu prikažite `moc_povprecna` za vsako regijo. Uporabite graf tipa `bar`.\n",
    "\n",
    "`2 pts`"
   ]
  },
  {
   "cell_type": "code",
   "execution_count": 425,
   "metadata": {},
   "outputs": [
    {
     "data": {
      "text/plain": [
       "<function matplotlib.pyplot.show(*args, **kw)>"
      ]
     },
     "execution_count": 425,
     "metadata": {},
     "output_type": "execute_result"
    },
    {
     "data": {
      "image/png": "[encoded data removed]",
      "text/plain": [
       "<Figure size 1600x400 with 1 Axes>"
      ]
     },
     "metadata": {
      "needs_background": "light"
     },
     "output_type": "display_data"
    }
   ],
   "source": [
    "# Odgovor\n",
    "plt.figure(figsize=(20,5), dpi=80)\n",
    "plt.bar(moc_povprecna.index, moc_povprecna)\n",
    "plt.title('Povprecna moč osebnih vozil starejših od leta 2000 glede na regijo')\n",
    "plt.tick_params(labelsize=8)\n",
    "plt.show\n",
    "\n"
   ]
  },
  {
   "cell_type": "markdown",
   "metadata": {},
   "source": [
    "### 2.4) Analiza - Primerjava dizel/bencin za osebna vozila po letu izdelave `17 pts`"
   ]
  },
  {
   "cell_type": "markdown",
   "metadata": {},
   "source": [
    "Izdelejte nov dataframe z imenom `df_osebna_2009_naprej`, v katerem shranite samo vrstice, ki predstavljajo osebna vozila (stolpec `Kategorija_vozila` -> vrednost `osebni avtomobil`), ki so bila izdelana po letu 2009 (vključno z letom 2009, stolpec `Leto_izdelave` >= 2009).\n",
    "\n",
    "`2 pts`"
   ]
  },
  {
   "cell_type": "code",
   "execution_count": 426,
   "metadata": {},
   "outputs": [],
   "source": [
    "# Odgovor\n",
    "df_osebna_2009_naprej = df[(df['Kategorija_vozila'] == 'osebni avtomobil')&(df['Leto_izdelave']>= 2009)]\n"
   ]
  },
  {
   "cell_type": "markdown",
   "metadata": {},
   "source": [
    "Iz stolpca `Gorivo` izberite samo vnose, ki imajo vrednost `Bencin` ali `Dizel` in jih shranite v `df_osebna_2009_naprej`.\n",
    "\n",
    "Namig: metoda `pandas.DataFrame.isin`\n",
    "\n",
    "`2 pts`"
   ]
  },
  {
   "cell_type": "code",
   "execution_count": 427,
   "metadata": {},
   "outputs": [
    {
     "name": "stderr",
     "output_type": "stream",
     "text": [
      "/home/nekipc/anaconda3/lib/python3.7/site-packages/ipykernel_launcher.py:2: UserWarning: Boolean Series key will be reindexed to match DataFrame index.\n",
      "  \n"
     ]
    }
   ],
   "source": [
    "# Odgovor\n",
    "df_osebna_2009_naprej = df_osebna_2009_naprej[(df['Gorivo']=='Bencin')|(df['Gorivo']=='Dizel')]\n"
   ]
  },
  {
   "cell_type": "markdown",
   "metadata": {},
   "source": [
    "Podatke grupirajte glede na `Leto_izdelave` in `Gorivo`.  Pridobite število vrednosti za posamezno kategorijo in podatke preoblikujte nazaj v tabelo (npr. s pomočjo metode `unstack()`).\n",
    "\n",
    "Dobljen dataframe shranite v spremenljivko `count_gorivo`.\n",
    "\n",
    "Želen rezultat:\n",
    "\n",
    "<img width=200 src=\"./data/table_1.PNG\">\n",
    "\n",
    "`3 pts`"
   ]
  },
  {
   "cell_type": "code",
   "execution_count": 428,
   "metadata": {},
   "outputs": [],
   "source": [
    "# Odgovor\n",
    "count_gorivo = df_osebna_2009_naprej.groupby(['Leto_izdelave','Gorivo']).count().iloc[:,0].unstack()"
   ]
  },
  {
   "cell_type": "markdown",
   "metadata": {},
   "source": [
    "Preoblikujte dobljene podatke (`count_gorivo`) v obliko primerno za izrisovanje grafa tipa bar. "
   ]
  },
  {
   "cell_type": "markdown",
   "metadata": {},
   "source": [
    "Prvi korak: Preoblikujte podatke s pomočjo stack metode.\n",
    "\n",
    "`1 pts`"
   ]
  },
  {
   "cell_type": "code",
   "execution_count": 429,
   "metadata": {},
   "outputs": [],
   "source": [
    "# Odgovor\n",
    "count_gorivo = count_gorivo.stack()"
   ]
  },
  {
   "cell_type": "markdown",
   "metadata": {},
   "source": [
    "Drugi korak: Dobljenemu Series objektu dodelite ime `total` s pomočjo name metode.\n",
    "\n",
    "`1 pts`"
   ]
  },
  {
   "cell_type": "code",
   "execution_count": 430,
   "metadata": {},
   "outputs": [
    {
     "data": {
      "text/plain": [
       "Leto_izdelave  Gorivo\n",
       "2009           Bencin      19\n",
       "               Dizel       52\n",
       "2010           Bencin       6\n",
       "               Dizel       57\n",
       "2011           Bencin      14\n",
       "               Dizel       67\n",
       "2012           Bencin      14\n",
       "               Dizel       87\n",
       "2013           Bencin      14\n",
       "               Dizel      157\n",
       "2014           Bencin      18\n",
       "               Dizel      395\n",
       "2015           Bencin      25\n",
       "               Dizel      929\n",
       "2016           Bencin      18\n",
       "               Dizel      540\n",
       "2017           Bencin      25\n",
       "               Dizel      135\n",
       "2018           Bencin      32\n",
       "               Dizel       62\n",
       "2019           Bencin    2646\n",
       "               Dizel      940\n",
       "Name: total, dtype: int64"
      ]
     },
     "execution_count": 430,
     "metadata": {},
     "output_type": "execute_result"
    }
   ],
   "source": [
    "# Odgovor\n",
    "count_gorivo.rename('total', inplace=True)"
   ]
  },
  {
   "cell_type": "markdown",
   "metadata": {},
   "source": [
    "Tretji korak: Restirajte indexe dobljenemu objektu.\n",
    "    \n",
    "`1 pts`"
   ]
  },
  {
   "cell_type": "code",
   "execution_count": 431,
   "metadata": {},
   "outputs": [
    {
     "data": {
      "text/plain": [
       "MultiIndex(levels=[[2009, 2010, 2011, 2012, 2013, 2014, 2015, 2016, 2017, 2018, 2019], ['Bencin', 'Dizel']],\n",
       "           codes=[[0, 0, 1, 1, 2, 2, 3, 3, 4, 4, 5, 5, 6, 6, 7, 7, 8, 8, 9, 9, 10, 10], [0, 1, 0, 1, 0, 1, 0, 1, 0, 1, 0, 1, 0, 1, 0, 1, 0, 1, 0, 1, 0, 1]],\n",
       "           names=['Leto_izdelave', 'Gorivo'])"
      ]
     },
     "execution_count": 431,
     "metadata": {},
     "output_type": "execute_result"
    }
   ],
   "source": [
    "count_gorivo.index"
   ]
  },
  {
   "cell_type": "code",
   "execution_count": 432,
   "metadata": {},
   "outputs": [],
   "source": [
    "# Odgovor\n",
    "count_gorivo = count_gorivo.reset_index()\n"
   ]
  },
  {
   "cell_type": "markdown",
   "metadata": {},
   "source": [
    "Pred izrisom podatkov, moramo podatke normalizirati. Možen postopek:\n",
    "- napišete lastno funkcijo, ki normalizira posamezno skupino podatkov\n",
    "- `count_gorivo` razvrstite glede na leto izdelave in nad vsako vrstico zaženete normalizacijsko funkcijo\n",
    "\n",
    "`4 pts`"
   ]
  },
  {
   "cell_type": "code",
   "execution_count": 433,
   "metadata": {},
   "outputs": [
    {
     "data": {
      "text/html": [
       "<div>\n",
       "<style scoped>\n",
       "    .dataframe tbody tr th:only-of-type {\n",
       "        vertical-align: middle;\n",
       "    }\n",
       "\n",
       "    .dataframe tbody tr th {\n",
       "        vertical-align: top;\n",
       "    }\n",
       "\n",
       "    .dataframe thead th {\n",
       "        text-align: right;\n",
       "    }\n",
       "</style>\n",
       "<table border=\"1\" class=\"dataframe\">\n",
       "  <thead>\n",
       "    <tr style=\"text-align: right;\">\n",
       "      <th></th>\n",
       "      <th>Leto_izdelave</th>\n",
       "      <th>Gorivo</th>\n",
       "      <th>total</th>\n",
       "    </tr>\n",
       "  </thead>\n",
       "  <tbody>\n",
       "    <tr>\n",
       "      <th>0</th>\n",
       "      <td>2009</td>\n",
       "      <td>Bencin</td>\n",
       "      <td>19</td>\n",
       "    </tr>\n",
       "    <tr>\n",
       "      <th>1</th>\n",
       "      <td>2009</td>\n",
       "      <td>Dizel</td>\n",
       "      <td>52</td>\n",
       "    </tr>\n",
       "    <tr>\n",
       "      <th>2</th>\n",
       "      <td>2010</td>\n",
       "      <td>Bencin</td>\n",
       "      <td>6</td>\n",
       "    </tr>\n",
       "    <tr>\n",
       "      <th>3</th>\n",
       "      <td>2010</td>\n",
       "      <td>Dizel</td>\n",
       "      <td>57</td>\n",
       "    </tr>\n",
       "    <tr>\n",
       "      <th>4</th>\n",
       "      <td>2011</td>\n",
       "      <td>Bencin</td>\n",
       "      <td>14</td>\n",
       "    </tr>\n",
       "    <tr>\n",
       "      <th>5</th>\n",
       "      <td>2011</td>\n",
       "      <td>Dizel</td>\n",
       "      <td>67</td>\n",
       "    </tr>\n",
       "    <tr>\n",
       "      <th>6</th>\n",
       "      <td>2012</td>\n",
       "      <td>Bencin</td>\n",
       "      <td>14</td>\n",
       "    </tr>\n",
       "    <tr>\n",
       "      <th>7</th>\n",
       "      <td>2012</td>\n",
       "      <td>Dizel</td>\n",
       "      <td>87</td>\n",
       "    </tr>\n",
       "    <tr>\n",
       "      <th>8</th>\n",
       "      <td>2013</td>\n",
       "      <td>Bencin</td>\n",
       "      <td>14</td>\n",
       "    </tr>\n",
       "    <tr>\n",
       "      <th>9</th>\n",
       "      <td>2013</td>\n",
       "      <td>Dizel</td>\n",
       "      <td>157</td>\n",
       "    </tr>\n",
       "    <tr>\n",
       "      <th>10</th>\n",
       "      <td>2014</td>\n",
       "      <td>Bencin</td>\n",
       "      <td>18</td>\n",
       "    </tr>\n",
       "    <tr>\n",
       "      <th>11</th>\n",
       "      <td>2014</td>\n",
       "      <td>Dizel</td>\n",
       "      <td>395</td>\n",
       "    </tr>\n",
       "    <tr>\n",
       "      <th>12</th>\n",
       "      <td>2015</td>\n",
       "      <td>Bencin</td>\n",
       "      <td>25</td>\n",
       "    </tr>\n",
       "    <tr>\n",
       "      <th>13</th>\n",
       "      <td>2015</td>\n",
       "      <td>Dizel</td>\n",
       "      <td>929</td>\n",
       "    </tr>\n",
       "    <tr>\n",
       "      <th>14</th>\n",
       "      <td>2016</td>\n",
       "      <td>Bencin</td>\n",
       "      <td>18</td>\n",
       "    </tr>\n",
       "    <tr>\n",
       "      <th>15</th>\n",
       "      <td>2016</td>\n",
       "      <td>Dizel</td>\n",
       "      <td>540</td>\n",
       "    </tr>\n",
       "    <tr>\n",
       "      <th>16</th>\n",
       "      <td>2017</td>\n",
       "      <td>Bencin</td>\n",
       "      <td>25</td>\n",
       "    </tr>\n",
       "    <tr>\n",
       "      <th>17</th>\n",
       "      <td>2017</td>\n",
       "      <td>Dizel</td>\n",
       "      <td>135</td>\n",
       "    </tr>\n",
       "    <tr>\n",
       "      <th>18</th>\n",
       "      <td>2018</td>\n",
       "      <td>Bencin</td>\n",
       "      <td>32</td>\n",
       "    </tr>\n",
       "    <tr>\n",
       "      <th>19</th>\n",
       "      <td>2018</td>\n",
       "      <td>Dizel</td>\n",
       "      <td>62</td>\n",
       "    </tr>\n",
       "    <tr>\n",
       "      <th>20</th>\n",
       "      <td>2019</td>\n",
       "      <td>Bencin</td>\n",
       "      <td>2646</td>\n",
       "    </tr>\n",
       "    <tr>\n",
       "      <th>21</th>\n",
       "      <td>2019</td>\n",
       "      <td>Dizel</td>\n",
       "      <td>940</td>\n",
       "    </tr>\n",
       "  </tbody>\n",
       "</table>\n",
       "</div>"
      ],
      "text/plain": [
       "    Leto_izdelave  Gorivo  total\n",
       "0            2009  Bencin     19\n",
       "1            2009   Dizel     52\n",
       "2            2010  Bencin      6\n",
       "3            2010   Dizel     57\n",
       "4            2011  Bencin     14\n",
       "5            2011   Dizel     67\n",
       "6            2012  Bencin     14\n",
       "7            2012   Dizel     87\n",
       "8            2013  Bencin     14\n",
       "9            2013   Dizel    157\n",
       "10           2014  Bencin     18\n",
       "11           2014   Dizel    395\n",
       "12           2015  Bencin     25\n",
       "13           2015   Dizel    929\n",
       "14           2016  Bencin     18\n",
       "15           2016   Dizel    540\n",
       "16           2017  Bencin     25\n",
       "17           2017   Dizel    135\n",
       "18           2018  Bencin     32\n",
       "19           2018   Dizel     62\n",
       "20           2019  Bencin   2646\n",
       "21           2019   Dizel    940"
      ]
     },
     "execution_count": 433,
     "metadata": {},
     "output_type": "execute_result"
    }
   ],
   "source": [
    "count_gorivo"
   ]
  },
  {
   "cell_type": "code",
   "execution_count": 434,
   "metadata": {},
   "outputs": [],
   "source": [
    "# Odgovor\n",
    "def norm_func(x):\n",
    "    x['normed_total'] =x['total']/ x['total'].sum()\n",
    "    return x"
   ]
  },
  {
   "cell_type": "code",
   "execution_count": 435,
   "metadata": {},
   "outputs": [],
   "source": [
    "count_gorivo = count_gorivo.groupby('Leto_izdelave').apply(norm_func)"
   ]
  },
  {
   "cell_type": "code",
   "execution_count": 436,
   "metadata": {},
   "outputs": [
    {
     "data": {
      "text/html": [
       "<div>\n",
       "<style scoped>\n",
       "    .dataframe tbody tr th:only-of-type {\n",
       "        vertical-align: middle;\n",
       "    }\n",
       "\n",
       "    .dataframe tbody tr th {\n",
       "        vertical-align: top;\n",
       "    }\n",
       "\n",
       "    .dataframe thead th {\n",
       "        text-align: right;\n",
       "    }\n",
       "</style>\n",
       "<table border=\"1\" class=\"dataframe\">\n",
       "  <thead>\n",
       "    <tr style=\"text-align: right;\">\n",
       "      <th></th>\n",
       "      <th>Leto_izdelave</th>\n",
       "      <th>Gorivo</th>\n",
       "      <th>total</th>\n",
       "      <th>normed_total</th>\n",
       "    </tr>\n",
       "  </thead>\n",
       "  <tbody>\n",
       "    <tr>\n",
       "      <th>0</th>\n",
       "      <td>2009</td>\n",
       "      <td>Bencin</td>\n",
       "      <td>19</td>\n",
       "      <td>0.267606</td>\n",
       "    </tr>\n",
       "    <tr>\n",
       "      <th>1</th>\n",
       "      <td>2009</td>\n",
       "      <td>Dizel</td>\n",
       "      <td>52</td>\n",
       "      <td>0.732394</td>\n",
       "    </tr>\n",
       "    <tr>\n",
       "      <th>2</th>\n",
       "      <td>2010</td>\n",
       "      <td>Bencin</td>\n",
       "      <td>6</td>\n",
       "      <td>0.095238</td>\n",
       "    </tr>\n",
       "    <tr>\n",
       "      <th>3</th>\n",
       "      <td>2010</td>\n",
       "      <td>Dizel</td>\n",
       "      <td>57</td>\n",
       "      <td>0.904762</td>\n",
       "    </tr>\n",
       "    <tr>\n",
       "      <th>4</th>\n",
       "      <td>2011</td>\n",
       "      <td>Bencin</td>\n",
       "      <td>14</td>\n",
       "      <td>0.172840</td>\n",
       "    </tr>\n",
       "    <tr>\n",
       "      <th>5</th>\n",
       "      <td>2011</td>\n",
       "      <td>Dizel</td>\n",
       "      <td>67</td>\n",
       "      <td>0.827160</td>\n",
       "    </tr>\n",
       "    <tr>\n",
       "      <th>6</th>\n",
       "      <td>2012</td>\n",
       "      <td>Bencin</td>\n",
       "      <td>14</td>\n",
       "      <td>0.138614</td>\n",
       "    </tr>\n",
       "    <tr>\n",
       "      <th>7</th>\n",
       "      <td>2012</td>\n",
       "      <td>Dizel</td>\n",
       "      <td>87</td>\n",
       "      <td>0.861386</td>\n",
       "    </tr>\n",
       "    <tr>\n",
       "      <th>8</th>\n",
       "      <td>2013</td>\n",
       "      <td>Bencin</td>\n",
       "      <td>14</td>\n",
       "      <td>0.081871</td>\n",
       "    </tr>\n",
       "    <tr>\n",
       "      <th>9</th>\n",
       "      <td>2013</td>\n",
       "      <td>Dizel</td>\n",
       "      <td>157</td>\n",
       "      <td>0.918129</td>\n",
       "    </tr>\n",
       "    <tr>\n",
       "      <th>10</th>\n",
       "      <td>2014</td>\n",
       "      <td>Bencin</td>\n",
       "      <td>18</td>\n",
       "      <td>0.043584</td>\n",
       "    </tr>\n",
       "    <tr>\n",
       "      <th>11</th>\n",
       "      <td>2014</td>\n",
       "      <td>Dizel</td>\n",
       "      <td>395</td>\n",
       "      <td>0.956416</td>\n",
       "    </tr>\n",
       "    <tr>\n",
       "      <th>12</th>\n",
       "      <td>2015</td>\n",
       "      <td>Bencin</td>\n",
       "      <td>25</td>\n",
       "      <td>0.026205</td>\n",
       "    </tr>\n",
       "    <tr>\n",
       "      <th>13</th>\n",
       "      <td>2015</td>\n",
       "      <td>Dizel</td>\n",
       "      <td>929</td>\n",
       "      <td>0.973795</td>\n",
       "    </tr>\n",
       "    <tr>\n",
       "      <th>14</th>\n",
       "      <td>2016</td>\n",
       "      <td>Bencin</td>\n",
       "      <td>18</td>\n",
       "      <td>0.032258</td>\n",
       "    </tr>\n",
       "    <tr>\n",
       "      <th>15</th>\n",
       "      <td>2016</td>\n",
       "      <td>Dizel</td>\n",
       "      <td>540</td>\n",
       "      <td>0.967742</td>\n",
       "    </tr>\n",
       "    <tr>\n",
       "      <th>16</th>\n",
       "      <td>2017</td>\n",
       "      <td>Bencin</td>\n",
       "      <td>25</td>\n",
       "      <td>0.156250</td>\n",
       "    </tr>\n",
       "    <tr>\n",
       "      <th>17</th>\n",
       "      <td>2017</td>\n",
       "      <td>Dizel</td>\n",
       "      <td>135</td>\n",
       "      <td>0.843750</td>\n",
       "    </tr>\n",
       "    <tr>\n",
       "      <th>18</th>\n",
       "      <td>2018</td>\n",
       "      <td>Bencin</td>\n",
       "      <td>32</td>\n",
       "      <td>0.340426</td>\n",
       "    </tr>\n",
       "    <tr>\n",
       "      <th>19</th>\n",
       "      <td>2018</td>\n",
       "      <td>Dizel</td>\n",
       "      <td>62</td>\n",
       "      <td>0.659574</td>\n",
       "    </tr>\n",
       "    <tr>\n",
       "      <th>20</th>\n",
       "      <td>2019</td>\n",
       "      <td>Bencin</td>\n",
       "      <td>2646</td>\n",
       "      <td>0.737869</td>\n",
       "    </tr>\n",
       "    <tr>\n",
       "      <th>21</th>\n",
       "      <td>2019</td>\n",
       "      <td>Dizel</td>\n",
       "      <td>940</td>\n",
       "      <td>0.262131</td>\n",
       "    </tr>\n",
       "  </tbody>\n",
       "</table>\n",
       "</div>"
      ],
      "text/plain": [
       "    Leto_izdelave  Gorivo  total  normed_total\n",
       "0            2009  Bencin     19      0.267606\n",
       "1            2009   Dizel     52      0.732394\n",
       "2            2010  Bencin      6      0.095238\n",
       "3            2010   Dizel     57      0.904762\n",
       "4            2011  Bencin     14      0.172840\n",
       "5            2011   Dizel     67      0.827160\n",
       "6            2012  Bencin     14      0.138614\n",
       "7            2012   Dizel     87      0.861386\n",
       "8            2013  Bencin     14      0.081871\n",
       "9            2013   Dizel    157      0.918129\n",
       "10           2014  Bencin     18      0.043584\n",
       "11           2014   Dizel    395      0.956416\n",
       "12           2015  Bencin     25      0.026205\n",
       "13           2015   Dizel    929      0.973795\n",
       "14           2016  Bencin     18      0.032258\n",
       "15           2016   Dizel    540      0.967742\n",
       "16           2017  Bencin     25      0.156250\n",
       "17           2017   Dizel    135      0.843750\n",
       "18           2018  Bencin     32      0.340426\n",
       "19           2018   Dizel     62      0.659574\n",
       "20           2019  Bencin   2646      0.737869\n",
       "21           2019   Dizel    940      0.262131"
      ]
     },
     "execution_count": 436,
     "metadata": {},
     "output_type": "execute_result"
    }
   ],
   "source": [
    "count_gorivo"
   ]
  },
  {
   "cell_type": "markdown",
   "metadata": {},
   "source": [
    "Namig (možne so tudi druge rešitve):\n",
    "\n",
    "> S pomočjo funkcije `sns.barplot` izrišite graf za urejene podatke.\n",
    "- na osi x prikažite `Leto_izdelave`\n",
    "- na osi y prikažite `normed_total`\n",
    "- `hue` vrednost naj predstavlja `Gorivo`\n",
    "\n",
    "Želen graf:\n",
    "\n",
    "<img width=300 src=\"./data/slika6.PNG\">\n",
    "\n",
    "`3 pts`"
   ]
  },
  {
   "cell_type": "code",
   "execution_count": 437,
   "metadata": {},
   "outputs": [
    {
     "data": {
      "text/plain": [
       "<matplotlib.axes._subplots.AxesSubplot at 0x7ffb6be95860>"
      ]
     },
     "execution_count": 437,
     "metadata": {},
     "output_type": "execute_result"
    },
    {
     "data": {
      "image/png": "[encoded data removed]",
      "text/plain": [
       "<Figure size 432x288 with 1 Axes>"
      ]
     },
     "metadata": {
      "needs_background": "light"
     },
     "output_type": "display_data"
    }
   ],
   "source": [
    "# Odgovor\n",
    "sns.barplot(y='normed_total', x='Leto_izdelave', hue='Gorivo', data=count_gorivo)\n",
    "\n",
    "\n"
   ]
  },
  {
   "cell_type": "markdown",
   "metadata": {},
   "source": [
    "### 2.5) Analiza - Korelacija moč/maksimalna hitrost `6 pts`"
   ]
  },
  {
   "cell_type": "markdown",
   "metadata": {},
   "source": [
    "Izračunajte koorelacijsko matriko za numerične vrednsoti v naših podatkih.\n",
    "\n",
    "`1 pts`"
   ]
  },
  {
   "cell_type": "code",
   "execution_count": 438,
   "metadata": {},
   "outputs": [
    {
     "data": {
      "text/html": [
       "<div>\n",
       "<style scoped>\n",
       "    .dataframe tbody tr th:only-of-type {\n",
       "        vertical-align: middle;\n",
       "    }\n",
       "\n",
       "    .dataframe tbody tr th {\n",
       "        vertical-align: top;\n",
       "    }\n",
       "\n",
       "    .dataframe thead th {\n",
       "        text-align: right;\n",
       "    }\n",
       "</style>\n",
       "<table border=\"1\" class=\"dataframe\">\n",
       "  <thead>\n",
       "    <tr style=\"text-align: right;\">\n",
       "      <th></th>\n",
       "      <th>Starost_vozinka</th>\n",
       "      <th>Upravna_enota_sifra</th>\n",
       "      <th>Masa_vozila</th>\n",
       "      <th>Moc</th>\n",
       "      <th>Stevilo_sedezev</th>\n",
       "      <th>Hitrost_max</th>\n",
       "      <th>Poraba_goriva</th>\n",
       "      <th>Leto_izdelave</th>\n",
       "    </tr>\n",
       "  </thead>\n",
       "  <tbody>\n",
       "    <tr>\n",
       "      <th>Starost_vozinka</th>\n",
       "      <td>1.000000</td>\n",
       "      <td>-0.009295</td>\n",
       "      <td>-0.004022</td>\n",
       "      <td>-0.068173</td>\n",
       "      <td>0.017011</td>\n",
       "      <td>-0.072182</td>\n",
       "      <td>0.050904</td>\n",
       "      <td>0.135365</td>\n",
       "    </tr>\n",
       "    <tr>\n",
       "      <th>Upravna_enota_sifra</th>\n",
       "      <td>-0.009295</td>\n",
       "      <td>1.000000</td>\n",
       "      <td>-0.026427</td>\n",
       "      <td>-0.038365</td>\n",
       "      <td>-0.020637</td>\n",
       "      <td>-0.020972</td>\n",
       "      <td>-0.010964</td>\n",
       "      <td>0.006156</td>\n",
       "    </tr>\n",
       "    <tr>\n",
       "      <th>Masa_vozila</th>\n",
       "      <td>-0.004022</td>\n",
       "      <td>-0.026427</td>\n",
       "      <td>1.000000</td>\n",
       "      <td>0.412120</td>\n",
       "      <td>0.161128</td>\n",
       "      <td>-0.049158</td>\n",
       "      <td>0.091477</td>\n",
       "      <td>-0.067788</td>\n",
       "    </tr>\n",
       "    <tr>\n",
       "      <th>Moc</th>\n",
       "      <td>-0.068173</td>\n",
       "      <td>-0.038365</td>\n",
       "      <td>0.412120</td>\n",
       "      <td>1.000000</td>\n",
       "      <td>0.554610</td>\n",
       "      <td>0.733135</td>\n",
       "      <td>0.100975</td>\n",
       "      <td>-0.027786</td>\n",
       "    </tr>\n",
       "    <tr>\n",
       "      <th>Stevilo_sedezev</th>\n",
       "      <td>0.017011</td>\n",
       "      <td>-0.020637</td>\n",
       "      <td>0.161128</td>\n",
       "      <td>0.554610</td>\n",
       "      <td>1.000000</td>\n",
       "      <td>0.666847</td>\n",
       "      <td>0.083837</td>\n",
       "      <td>0.136521</td>\n",
       "    </tr>\n",
       "    <tr>\n",
       "      <th>Hitrost_max</th>\n",
       "      <td>-0.072182</td>\n",
       "      <td>-0.020972</td>\n",
       "      <td>-0.049158</td>\n",
       "      <td>0.733135</td>\n",
       "      <td>0.666847</td>\n",
       "      <td>1.000000</td>\n",
       "      <td>0.059194</td>\n",
       "      <td>-0.012056</td>\n",
       "    </tr>\n",
       "    <tr>\n",
       "      <th>Poraba_goriva</th>\n",
       "      <td>0.050904</td>\n",
       "      <td>-0.010964</td>\n",
       "      <td>0.091477</td>\n",
       "      <td>0.100975</td>\n",
       "      <td>0.083837</td>\n",
       "      <td>0.059194</td>\n",
       "      <td>1.000000</td>\n",
       "      <td>0.023484</td>\n",
       "    </tr>\n",
       "    <tr>\n",
       "      <th>Leto_izdelave</th>\n",
       "      <td>0.135365</td>\n",
       "      <td>0.006156</td>\n",
       "      <td>-0.067788</td>\n",
       "      <td>-0.027786</td>\n",
       "      <td>0.136521</td>\n",
       "      <td>-0.012056</td>\n",
       "      <td>0.023484</td>\n",
       "      <td>1.000000</td>\n",
       "    </tr>\n",
       "  </tbody>\n",
       "</table>\n",
       "</div>"
      ],
      "text/plain": [
       "                     Starost_vozinka  Upravna_enota_sifra  Masa_vozila  \\\n",
       "Starost_vozinka             1.000000            -0.009295    -0.004022   \n",
       "Upravna_enota_sifra        -0.009295             1.000000    -0.026427   \n",
       "Masa_vozila                -0.004022            -0.026427     1.000000   \n",
       "Moc                        -0.068173            -0.038365     0.412120   \n",
       "Stevilo_sedezev             0.017011            -0.020637     0.161128   \n",
       "Hitrost_max                -0.072182            -0.020972    -0.049158   \n",
       "Poraba_goriva               0.050904            -0.010964     0.091477   \n",
       "Leto_izdelave               0.135365             0.006156    -0.067788   \n",
       "\n",
       "                          Moc  Stevilo_sedezev  Hitrost_max  Poraba_goriva  \\\n",
       "Starost_vozinka     -0.068173         0.017011    -0.072182       0.050904   \n",
       "Upravna_enota_sifra -0.038365        -0.020637    -0.020972      -0.010964   \n",
       "Masa_vozila          0.412120         0.161128    -0.049158       0.091477   \n",
       "Moc                  1.000000         0.554610     0.733135       0.100975   \n",
       "Stevilo_sedezev      0.554610         1.000000     0.666847       0.083837   \n",
       "Hitrost_max          0.733135         0.666847     1.000000       0.059194   \n",
       "Poraba_goriva        0.100975         0.083837     0.059194       1.000000   \n",
       "Leto_izdelave       -0.027786         0.136521    -0.012056       0.023484   \n",
       "\n",
       "                     Leto_izdelave  \n",
       "Starost_vozinka           0.135365  \n",
       "Upravna_enota_sifra       0.006156  \n",
       "Masa_vozila              -0.067788  \n",
       "Moc                      -0.027786  \n",
       "Stevilo_sedezev           0.136521  \n",
       "Hitrost_max              -0.012056  \n",
       "Poraba_goriva             0.023484  \n",
       "Leto_izdelave             1.000000  "
      ]
     },
     "execution_count": 438,
     "metadata": {},
     "output_type": "execute_result"
    }
   ],
   "source": [
    "# Odgovor\n",
    "df.corr()\n",
    "\n"
   ]
  },
  {
   "cell_type": "markdown",
   "metadata": {},
   "source": [
    "Katere dve spremenljivki sta najbolj povezani?\n",
    "\n",
    "`1 pts`"
   ]
  },
  {
   "cell_type": "code",
   "execution_count": null,
   "metadata": {},
   "outputs": [],
   "source": [
    "# Odgovor - ni potreben izračun\n",
    "# Hitrost_max in Moc - korelacija - 0.733135"
   ]
  },
  {
   "cell_type": "markdown",
   "metadata": {},
   "source": [
    "S pomočjo `sns.lmplot` funkcije izrišite graf, ki prikazuje linearno regresijo med `Hitrost_max` in `Moc`.\n",
    "\n",
    "`2 pts`"
   ]
  },
  {
   "cell_type": "code",
   "execution_count": 439,
   "metadata": {},
   "outputs": [
    {
     "data": {
      "image/png": "[encoded data removed]",
      "text/plain": [
       "<Figure size 360x360 with 1 Axes>"
      ]
     },
     "metadata": {
      "needs_background": "light"
     },
     "output_type": "display_data"
    }
   ],
   "source": [
    "# Odgovor\n",
    "sns.lmplot(x=\"Hitrost_max\", y=\"Moc\", data=df);\n"
   ]
  },
  {
   "cell_type": "markdown",
   "metadata": {},
   "source": [
    "Izpišite vrstico, kjer je vrednost `Moc` maksimalna.\n",
    "\n",
    "`2 pts`"
   ]
  },
  {
   "cell_type": "code",
   "execution_count": 440,
   "metadata": {},
   "outputs": [
    {
     "data": {
      "text/plain": [
       "1991"
      ]
     },
     "execution_count": 440,
     "metadata": {},
     "output_type": "execute_result"
    }
   ],
   "source": [
    "# Odgovor\n",
    "\n",
    "df['Moc'].idxmax()"
   ]
  },
  {
   "cell_type": "markdown",
   "metadata": {},
   "source": [
    "## Oddaja\n",
    "\n",
    "Rešeni notebook pošljite na naslednja e-mail naslova:\n",
    "- leon.stefanic@ltfe.org \n",
    "- gregor.balkovec@ltfe.org\n",
    "\n",
    "**POMEMBNO!** Pred pošiljanjem notebook preimenujte na naslednji način:\n",
    "\n",
    "`IZPIT_PRAKSA_IME_PRIMEK`"
   ]
  }
 ],
 "metadata": {
  "kernelspec": {
   "display_name": "Python 3",
   "language": "python",
   "name": "python3"
  },
  "language_info": {
   "codemirror_mode": {
    "name": "ipython",
    "version": 3
   },
   "file_extension": ".py",
   "mimetype": "text/x-python",
   "name": "python",
   "nbconvert_exporter": "python",
   "pygments_lexer": "ipython3",
   "version": "3.7.3"
  }
 },
 "nbformat": 4,
 "nbformat_minor": 2
}
